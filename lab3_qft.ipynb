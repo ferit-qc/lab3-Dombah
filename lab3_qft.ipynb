{
  "nbformat": 4,
  "nbformat_minor": 0,
  "metadata": {
    "colab": {
      "provenance": [],
      "toc_visible": true
    },
    "kernelspec": {
      "name": "python3",
      "display_name": "Python 3"
    },
    "language_info": {
      "name": "python"
    }
  },
  "cells": [
    {
      "cell_type": "markdown",
      "source": [
        "<a href=\"https://colab.research.google.com/github/ferit-qc/lab3/blob/main/lab3_qft.ipynb\" target=\"_parent\"><img src=\"https://colab.research.google.com/assets/colab-badge.svg\" alt=\"Open In Colab\"/></a>"
      ],
      "metadata": {
        "id": "bX6gmY5SL67g"
      }
    },
    {
      "cell_type": "markdown",
      "source": [
        "# Lab3. - Implementation of Quantum Fourier Transformation, Phase Estimation and Shor's Algorithm"
      ],
      "metadata": {
        "id": "9ecv7zYwMDyh"
      }
    },
    {
      "cell_type": "markdown",
      "source": [
        "## Useful learning resources and links:\n",
        "* [Quantum computing documentation](https://docs.quantum.ibm.com/)\n",
        "* [Qiskit documentation](https://www.ibm.com/quantum/qiskit)\n",
        "* [IBM Quantum Composer](https://quantum.ibm.com/composer)\n"
      ],
      "metadata": {
        "id": "OQ_DTLdHOw6X"
      }
    },
    {
      "cell_type": "code",
      "execution_count": null,
      "metadata": {
        "collapsed": true,
        "id": "L4mXCXL7EMfm",
        "colab": {
          "base_uri": "https://localhost:8080/"
        },
        "outputId": "92f3326a-a703-4917-9920-ae431ff1eac6"
      },
      "outputs": [
        {
          "output_type": "stream",
          "name": "stdout",
          "text": [
            "Collecting qiskit\n",
            "  Downloading qiskit-1.4.2-cp39-abi3-manylinux_2_17_x86_64.manylinux2014_x86_64.whl.metadata (12 kB)\n",
            "Collecting qiskit-ibm-runtime\n",
            "  Downloading qiskit_ibm_runtime-0.37.0-py3-none-any.whl.metadata (20 kB)\n",
            "Collecting rustworkx>=0.15.0 (from qiskit)\n",
            "  Downloading rustworkx-0.16.0-cp39-abi3-manylinux_2_17_x86_64.manylinux2014_x86_64.whl.metadata (10 kB)\n",
            "Requirement already satisfied: numpy<3,>=1.17 in /usr/local/lib/python3.11/dist-packages (from qiskit) (2.0.2)\n",
            "Requirement already satisfied: scipy>=1.5 in /usr/local/lib/python3.11/dist-packages (from qiskit) (1.14.1)\n",
            "Requirement already satisfied: sympy>=1.3 in /usr/local/lib/python3.11/dist-packages (from qiskit) (1.13.1)\n",
            "Collecting dill>=0.3 (from qiskit)\n",
            "  Downloading dill-0.3.9-py3-none-any.whl.metadata (10 kB)\n",
            "Requirement already satisfied: python-dateutil>=2.8.0 in /usr/local/lib/python3.11/dist-packages (from qiskit) (2.8.2)\n",
            "Collecting stevedore>=3.0.0 (from qiskit)\n",
            "  Downloading stevedore-5.4.1-py3-none-any.whl.metadata (2.3 kB)\n",
            "Requirement already satisfied: typing-extensions in /usr/local/lib/python3.11/dist-packages (from qiskit) (4.12.2)\n",
            "Collecting symengine<0.14,>=0.11 (from qiskit)\n",
            "  Downloading symengine-0.13.0-cp311-cp311-manylinux_2_17_x86_64.manylinux2014_x86_64.whl.metadata (1.2 kB)\n",
            "Requirement already satisfied: requests>=2.19 in /usr/local/lib/python3.11/dist-packages (from qiskit-ibm-runtime) (2.32.3)\n",
            "Collecting requests-ntlm>=1.1.0 (from qiskit-ibm-runtime)\n",
            "  Downloading requests_ntlm-1.3.0-py3-none-any.whl.metadata (2.4 kB)\n",
            "Requirement already satisfied: urllib3>=1.21.1 in /usr/local/lib/python3.11/dist-packages (from qiskit-ibm-runtime) (2.3.0)\n",
            "Requirement already satisfied: websocket-client>=1.5.1 in /usr/local/lib/python3.11/dist-packages (from qiskit-ibm-runtime) (1.8.0)\n",
            "Collecting ibm-platform-services>=0.22.6 (from qiskit-ibm-runtime)\n",
            "  Downloading ibm_platform_services-0.63.0-py3-none-any.whl.metadata (9.0 kB)\n",
            "Collecting pydantic<2.10,>=2.5.0 (from qiskit-ibm-runtime)\n",
            "  Downloading pydantic-2.9.2-py3-none-any.whl.metadata (149 kB)\n",
            "\u001b[2K     \u001b[90m━━━━━━━━━━━━━━━━━━━━━━━━━━━━━━━━━━━━━━━━\u001b[0m \u001b[32m149.4/149.4 kB\u001b[0m \u001b[31m2.1 MB/s\u001b[0m eta \u001b[36m0:00:00\u001b[0m\n",
            "\u001b[?25hRequirement already satisfied: packaging in /usr/local/lib/python3.11/dist-packages (from qiskit-ibm-runtime) (24.2)\n",
            "Collecting ibm_cloud_sdk_core<4.0.0,>=3.22.1 (from ibm-platform-services>=0.22.6->qiskit-ibm-runtime)\n",
            "  Downloading ibm_cloud_sdk_core-3.23.0-py3-none-any.whl.metadata (8.7 kB)\n",
            "Requirement already satisfied: annotated-types>=0.6.0 in /usr/local/lib/python3.11/dist-packages (from pydantic<2.10,>=2.5.0->qiskit-ibm-runtime) (0.7.0)\n",
            "Collecting pydantic-core==2.23.4 (from pydantic<2.10,>=2.5.0->qiskit-ibm-runtime)\n",
            "  Downloading pydantic_core-2.23.4-cp311-cp311-manylinux_2_17_x86_64.manylinux2014_x86_64.whl.metadata (6.6 kB)\n",
            "Requirement already satisfied: six>=1.5 in /usr/local/lib/python3.11/dist-packages (from python-dateutil>=2.8.0->qiskit) (1.17.0)\n",
            "Requirement already satisfied: charset-normalizer<4,>=2 in /usr/local/lib/python3.11/dist-packages (from requests>=2.19->qiskit-ibm-runtime) (3.4.1)\n",
            "Requirement already satisfied: idna<4,>=2.5 in /usr/local/lib/python3.11/dist-packages (from requests>=2.19->qiskit-ibm-runtime) (3.10)\n",
            "Requirement already satisfied: certifi>=2017.4.17 in /usr/local/lib/python3.11/dist-packages (from requests>=2.19->qiskit-ibm-runtime) (2025.1.31)\n",
            "Requirement already satisfied: cryptography>=1.3 in /usr/local/lib/python3.11/dist-packages (from requests-ntlm>=1.1.0->qiskit-ibm-runtime) (43.0.3)\n",
            "Collecting pyspnego>=0.4.0 (from requests-ntlm>=1.1.0->qiskit-ibm-runtime)\n",
            "  Downloading pyspnego-0.11.2-py3-none-any.whl.metadata (5.4 kB)\n",
            "Collecting pbr>=2.0.0 (from stevedore>=3.0.0->qiskit)\n",
            "  Downloading pbr-6.1.1-py2.py3-none-any.whl.metadata (3.4 kB)\n",
            "Requirement already satisfied: mpmath<1.4,>=1.1.0 in /usr/local/lib/python3.11/dist-packages (from sympy>=1.3->qiskit) (1.3.0)\n",
            "Requirement already satisfied: cffi>=1.12 in /usr/local/lib/python3.11/dist-packages (from cryptography>=1.3->requests-ntlm>=1.1.0->qiskit-ibm-runtime) (1.17.1)\n",
            "Requirement already satisfied: PyJWT<3.0.0,>=2.8.0 in /usr/local/lib/python3.11/dist-packages (from ibm_cloud_sdk_core<4.0.0,>=3.22.1->ibm-platform-services>=0.22.6->qiskit-ibm-runtime) (2.10.1)\n",
            "Requirement already satisfied: setuptools in /usr/local/lib/python3.11/dist-packages (from pbr>=2.0.0->stevedore>=3.0.0->qiskit) (75.1.0)\n",
            "Requirement already satisfied: pycparser in /usr/local/lib/python3.11/dist-packages (from cffi>=1.12->cryptography>=1.3->requests-ntlm>=1.1.0->qiskit-ibm-runtime) (2.22)\n",
            "Downloading qiskit-1.4.2-cp39-abi3-manylinux_2_17_x86_64.manylinux2014_x86_64.whl (6.8 MB)\n",
            "\u001b[2K   \u001b[90m━━━━━━━━━━━━━━━━━━━━━━━━━━━━━━━━━━━━━━━━\u001b[0m \u001b[32m6.8/6.8 MB\u001b[0m \u001b[31m45.1 MB/s\u001b[0m eta \u001b[36m0:00:00\u001b[0m\n",
            "\u001b[?25hDownloading qiskit_ibm_runtime-0.37.0-py3-none-any.whl (3.1 MB)\n",
            "\u001b[2K   \u001b[90m━━━━━━━━━━━━━━━━━━━━━━━━━━━━━━━━━━━━━━━━\u001b[0m \u001b[32m3.1/3.1 MB\u001b[0m \u001b[31m49.4 MB/s\u001b[0m eta \u001b[36m0:00:00\u001b[0m\n",
            "\u001b[?25hDownloading dill-0.3.9-py3-none-any.whl (119 kB)\n",
            "\u001b[2K   \u001b[90m━━━━━━━━━━━━━━━━━━━━━━━━━━━━━━━━━━━━━━━━\u001b[0m \u001b[32m119.4/119.4 kB\u001b[0m \u001b[31m8.1 MB/s\u001b[0m eta \u001b[36m0:00:00\u001b[0m\n",
            "\u001b[?25hDownloading ibm_platform_services-0.63.0-py3-none-any.whl (352 kB)\n",
            "\u001b[2K   \u001b[90m━━━━━━━━━━━━━━━━━━━━━━━━━━━━━━━━━━━━━━━━\u001b[0m \u001b[32m353.0/353.0 kB\u001b[0m \u001b[31m18.9 MB/s\u001b[0m eta \u001b[36m0:00:00\u001b[0m\n",
            "\u001b[?25hDownloading pydantic-2.9.2-py3-none-any.whl (434 kB)\n",
            "\u001b[2K   \u001b[90m━━━━━━━━━━━━━━━━━━━━━━━━━━━━━━━━━━━━━━━━\u001b[0m \u001b[32m434.9/434.9 kB\u001b[0m \u001b[31m19.9 MB/s\u001b[0m eta \u001b[36m0:00:00\u001b[0m\n",
            "\u001b[?25hDownloading pydantic_core-2.23.4-cp311-cp311-manylinux_2_17_x86_64.manylinux2014_x86_64.whl (2.1 MB)\n",
            "\u001b[2K   \u001b[90m━━━━━━━━━━━━━━━━━━━━━━━━━━━━━━━━━━━━━━━━\u001b[0m \u001b[32m2.1/2.1 MB\u001b[0m \u001b[31m46.1 MB/s\u001b[0m eta \u001b[36m0:00:00\u001b[0m\n",
            "\u001b[?25hDownloading requests_ntlm-1.3.0-py3-none-any.whl (6.6 kB)\n",
            "Downloading rustworkx-0.16.0-cp39-abi3-manylinux_2_17_x86_64.manylinux2014_x86_64.whl (2.1 MB)\n",
            "\u001b[2K   \u001b[90m━━━━━━━━━━━━━━━━━━━━━━━━━━━━━━━━━━━━━━━━\u001b[0m \u001b[32m2.1/2.1 MB\u001b[0m \u001b[31m52.0 MB/s\u001b[0m eta \u001b[36m0:00:00\u001b[0m\n",
            "\u001b[?25hDownloading stevedore-5.4.1-py3-none-any.whl (49 kB)\n",
            "\u001b[2K   \u001b[90m━━━━━━━━━━━━━━━━━━━━━━━━━━━━━━━━━━━━━━━━\u001b[0m \u001b[32m49.5/49.5 kB\u001b[0m \u001b[31m2.7 MB/s\u001b[0m eta \u001b[36m0:00:00\u001b[0m\n",
            "\u001b[?25hDownloading symengine-0.13.0-cp311-cp311-manylinux_2_17_x86_64.manylinux2014_x86_64.whl (49.7 MB)\n",
            "\u001b[2K   \u001b[90m━━━━━━━━━━━━━━━━━━━━━━━━━━━━━━━━━━━━━━━━\u001b[0m \u001b[32m49.7/49.7 MB\u001b[0m \u001b[31m13.5 MB/s\u001b[0m eta \u001b[36m0:00:00\u001b[0m\n",
            "\u001b[?25hDownloading ibm_cloud_sdk_core-3.23.0-py3-none-any.whl (69 kB)\n",
            "\u001b[2K   \u001b[90m━━━━━━━━━━━━━━━━━━━━━━━━━━━━━━━━━━━━━━━━\u001b[0m \u001b[32m69.5/69.5 kB\u001b[0m \u001b[31m3.5 MB/s\u001b[0m eta \u001b[36m0:00:00\u001b[0m\n",
            "\u001b[?25hDownloading pbr-6.1.1-py2.py3-none-any.whl (108 kB)\n",
            "\u001b[2K   \u001b[90m━━━━━━━━━━━━━━━━━━━━━━━━━━━━━━━━━━━━━━━━\u001b[0m \u001b[32m109.0/109.0 kB\u001b[0m \u001b[31m6.0 MB/s\u001b[0m eta \u001b[36m0:00:00\u001b[0m\n",
            "\u001b[?25hDownloading pyspnego-0.11.2-py3-none-any.whl (130 kB)\n",
            "\u001b[2K   \u001b[90m━━━━━━━━━━━━━━━━━━━━━━━━━━━━━━━━━━━━━━━━\u001b[0m \u001b[32m130.5/130.5 kB\u001b[0m \u001b[31m6.9 MB/s\u001b[0m eta \u001b[36m0:00:00\u001b[0m\n",
            "\u001b[?25hInstalling collected packages: symengine, rustworkx, pydantic-core, pbr, dill, stevedore, pydantic, ibm_cloud_sdk_core, qiskit, pyspnego, ibm-platform-services, requests-ntlm, qiskit-ibm-runtime\n",
            "  Attempting uninstall: pydantic-core\n",
            "    Found existing installation: pydantic_core 2.27.2\n",
            "    Uninstalling pydantic_core-2.27.2:\n",
            "      Successfully uninstalled pydantic_core-2.27.2\n",
            "  Attempting uninstall: pydantic\n",
            "    Found existing installation: pydantic 2.10.6\n",
            "    Uninstalling pydantic-2.10.6:\n",
            "      Successfully uninstalled pydantic-2.10.6\n",
            "Successfully installed dill-0.3.9 ibm-platform-services-0.63.0 ibm_cloud_sdk_core-3.23.0 pbr-6.1.1 pydantic-2.9.2 pydantic-core-2.23.4 pyspnego-0.11.2 qiskit-1.4.2 qiskit-ibm-runtime-0.37.0 requests-ntlm-1.3.0 rustworkx-0.16.0 stevedore-5.4.1 symengine-0.13.0\n"
          ]
        }
      ],
      "source": [
        "pip install qiskit qiskit-ibm-runtime"
      ]
    },
    {
      "cell_type": "code",
      "source": [
        "pip install qiskit qiskit-aer"
      ],
      "metadata": {
        "collapsed": true,
        "id": "VrIXIspGuF81",
        "colab": {
          "base_uri": "https://localhost:8080/"
        },
        "outputId": "9753aa7a-8315-4e1a-c28c-68e7b9668fd2"
      },
      "execution_count": null,
      "outputs": [
        {
          "output_type": "stream",
          "name": "stdout",
          "text": [
            "Requirement already satisfied: qiskit in /usr/local/lib/python3.11/dist-packages (1.4.2)\n",
            "Collecting qiskit-aer\n",
            "  Downloading qiskit_aer-0.17.0-cp311-cp311-manylinux_2_17_x86_64.manylinux2014_x86_64.whl.metadata (8.2 kB)\n",
            "Requirement already satisfied: rustworkx>=0.15.0 in /usr/local/lib/python3.11/dist-packages (from qiskit) (0.16.0)\n",
            "Requirement already satisfied: numpy<3,>=1.17 in /usr/local/lib/python3.11/dist-packages (from qiskit) (2.0.2)\n",
            "Requirement already satisfied: scipy>=1.5 in /usr/local/lib/python3.11/dist-packages (from qiskit) (1.14.1)\n",
            "Requirement already satisfied: sympy>=1.3 in /usr/local/lib/python3.11/dist-packages (from qiskit) (1.13.1)\n",
            "Requirement already satisfied: dill>=0.3 in /usr/local/lib/python3.11/dist-packages (from qiskit) (0.3.9)\n",
            "Requirement already satisfied: python-dateutil>=2.8.0 in /usr/local/lib/python3.11/dist-packages (from qiskit) (2.8.2)\n",
            "Requirement already satisfied: stevedore>=3.0.0 in /usr/local/lib/python3.11/dist-packages (from qiskit) (5.4.1)\n",
            "Requirement already satisfied: typing-extensions in /usr/local/lib/python3.11/dist-packages (from qiskit) (4.12.2)\n",
            "Requirement already satisfied: symengine<0.14,>=0.11 in /usr/local/lib/python3.11/dist-packages (from qiskit) (0.13.0)\n",
            "Requirement already satisfied: psutil>=5 in /usr/local/lib/python3.11/dist-packages (from qiskit-aer) (5.9.5)\n",
            "Requirement already satisfied: six>=1.5 in /usr/local/lib/python3.11/dist-packages (from python-dateutil>=2.8.0->qiskit) (1.17.0)\n",
            "Requirement already satisfied: pbr>=2.0.0 in /usr/local/lib/python3.11/dist-packages (from stevedore>=3.0.0->qiskit) (6.1.1)\n",
            "Requirement already satisfied: mpmath<1.4,>=1.1.0 in /usr/local/lib/python3.11/dist-packages (from sympy>=1.3->qiskit) (1.3.0)\n",
            "Requirement already satisfied: setuptools in /usr/local/lib/python3.11/dist-packages (from pbr>=2.0.0->stevedore>=3.0.0->qiskit) (75.1.0)\n",
            "Downloading qiskit_aer-0.17.0-cp311-cp311-manylinux_2_17_x86_64.manylinux2014_x86_64.whl (12.4 MB)\n",
            "\u001b[2K   \u001b[90m━━━━━━━━━━━━━━━━━━━━━━━━━━━━━━━━━━━━━━━━\u001b[0m \u001b[32m12.4/12.4 MB\u001b[0m \u001b[31m81.3 MB/s\u001b[0m eta \u001b[36m0:00:00\u001b[0m\n",
            "\u001b[?25hInstalling collected packages: qiskit-aer\n",
            "Successfully installed qiskit-aer-0.17.0\n"
          ]
        }
      ]
    },
    {
      "cell_type": "code",
      "source": [
        "pip install matplotlib"
      ],
      "metadata": {
        "collapsed": true,
        "id": "d6ji35-4uKU9",
        "colab": {
          "base_uri": "https://localhost:8080/"
        },
        "outputId": "5839786e-255b-4d9f-ba9c-b7cc88d55b14"
      },
      "execution_count": null,
      "outputs": [
        {
          "output_type": "stream",
          "name": "stdout",
          "text": [
            "Requirement already satisfied: matplotlib in /usr/local/lib/python3.11/dist-packages (3.10.0)\n",
            "Requirement already satisfied: contourpy>=1.0.1 in /usr/local/lib/python3.11/dist-packages (from matplotlib) (1.3.1)\n",
            "Requirement already satisfied: cycler>=0.10 in /usr/local/lib/python3.11/dist-packages (from matplotlib) (0.12.1)\n",
            "Requirement already satisfied: fonttools>=4.22.0 in /usr/local/lib/python3.11/dist-packages (from matplotlib) (4.56.0)\n",
            "Requirement already satisfied: kiwisolver>=1.3.1 in /usr/local/lib/python3.11/dist-packages (from matplotlib) (1.4.8)\n",
            "Requirement already satisfied: numpy>=1.23 in /usr/local/lib/python3.11/dist-packages (from matplotlib) (2.0.2)\n",
            "Requirement already satisfied: packaging>=20.0 in /usr/local/lib/python3.11/dist-packages (from matplotlib) (24.2)\n",
            "Requirement already satisfied: pillow>=8 in /usr/local/lib/python3.11/dist-packages (from matplotlib) (11.1.0)\n",
            "Requirement already satisfied: pyparsing>=2.3.1 in /usr/local/lib/python3.11/dist-packages (from matplotlib) (3.2.1)\n",
            "Requirement already satisfied: python-dateutil>=2.7 in /usr/local/lib/python3.11/dist-packages (from matplotlib) (2.8.2)\n",
            "Requirement already satisfied: six>=1.5 in /usr/local/lib/python3.11/dist-packages (from python-dateutil>=2.7->matplotlib) (1.17.0)\n"
          ]
        }
      ]
    },
    {
      "cell_type": "code",
      "source": [
        "pip install pylatexenc"
      ],
      "metadata": {
        "collapsed": true,
        "id": "gNc4_vUNuOAy",
        "colab": {
          "base_uri": "https://localhost:8080/"
        },
        "outputId": "e38cfebd-26ba-458b-c7ba-1fe11d60d931"
      },
      "execution_count": null,
      "outputs": [
        {
          "output_type": "stream",
          "name": "stdout",
          "text": [
            "Collecting pylatexenc\n",
            "  Downloading pylatexenc-2.10.tar.gz (162 kB)\n",
            "\u001b[?25l     \u001b[90m━━━━━━━━━━━━━━━━━━━━━━━━━━━━━━━━━━━━━━━━\u001b[0m \u001b[32m0.0/162.6 kB\u001b[0m \u001b[31m?\u001b[0m eta \u001b[36m-:--:--\u001b[0m\r\u001b[2K     \u001b[91m━━━━━━━━━━━━━━━━━━━━━━━━━━━━━━━━━━━━━\u001b[0m\u001b[91m╸\u001b[0m\u001b[90m━━\u001b[0m \u001b[32m153.6/162.6 kB\u001b[0m \u001b[31m4.3 MB/s\u001b[0m eta \u001b[36m0:00:01\u001b[0m\r\u001b[2K     \u001b[90m━━━━━━━━━━━━━━━━━━━━━━━━━━━━━━━━━━━━━━━━\u001b[0m \u001b[32m162.6/162.6 kB\u001b[0m \u001b[31m3.1 MB/s\u001b[0m eta \u001b[36m0:00:00\u001b[0m\n",
            "\u001b[?25h  Preparing metadata (setup.py) ... \u001b[?25l\u001b[?25hdone\n",
            "Building wheels for collected packages: pylatexenc\n",
            "  Building wheel for pylatexenc (setup.py) ... \u001b[?25l\u001b[?25hdone\n",
            "  Created wheel for pylatexenc: filename=pylatexenc-2.10-py3-none-any.whl size=136816 sha256=82dd77805a2ec2971aae0ef2b6ed701fce800e02d6f11f8da10b65471e883c1e\n",
            "  Stored in directory: /root/.cache/pip/wheels/b1/7a/33/9fdd892f784ed4afda62b685ae3703adf4c91aa0f524c28f03\n",
            "Successfully built pylatexenc\n",
            "Installing collected packages: pylatexenc\n",
            "Successfully installed pylatexenc-2.10\n"
          ]
        }
      ]
    },
    {
      "cell_type": "code",
      "source": [
        "from qiskit import *   # Imports core Qiskit classes (QuantumCircuit, transpile, etc.)\n",
        "from qiskit_aer.aerprovider import AerSimulator # Provides access to the local quantum circuit simulator\n",
        "from qiskit.visualization import plot_histogram # Enables visualization of measurement results\n",
        "import matplotlib.pyplot as plt # Standard Python plotting library\n",
        "from IPython.display import display # Allows rich display of plots in Jupyter notebooks\n",
        "from IPython.display import Image\n",
        "from IPython.core.display import HTML\n",
        "import math\n",
        "from qiskit.visualization import plot_histogram, plot_bloch_multivector, array_to_latex\n",
        "from qiskit.result import marginal_counts\n",
        "from qiskit.quantum_info import random_statevector\n",
        "import numpy as np\n",
        "from numpy import pi"
      ],
      "metadata": {
        "id": "q7uOg53hEuJM"
      },
      "execution_count": null,
      "outputs": []
    },
    {
      "cell_type": "markdown",
      "source": [
        "## 1. Quantum Fourier Transformation\n",
        "\n",
        "The Fourier transform occurs in many different versions throughout classical computing, in areas ranging from signal processing to data compression to complexity theory. The quantum Fourier transform (QFT) is the quantum implementation of the discrete Fourier transform over the amplitudes of a wavefunction. It is part of many quantum algorithms, most notably Shor's factoring algorithm and quantum phase estimation.\n",
        "\n",
        "The discrete Fourier transform acts on a vector $(x_0, ..., x_{N-1})$ and maps it to the vector $(y_0, ..., y_{N-1})$ according to the formula\n",
        "\n",
        "$$y_k = \\frac{1}{\\sqrt{N}}\\sum_{j=0}^{N-1}x_j\\omega_N^{jk}$$\n",
        "\n",
        "where $\\omega_N^{jk} = e^{2\\pi i \\frac{jk}{N}}$.\n",
        "\n",
        "Similarly, the quantum Fourier transform acts on a quantum state $\\vert X\\rangle = \\sum_{j=0}^{N-1} x_j \\vert j \\rangle$ and maps it to the quantum state $\\vert Y\\rangle = \\sum_{k=0}^{N-1} y_k \\vert k \\rangle$ according to the formula\n",
        "\n",
        "$$y_k = \\frac{1}{\\sqrt{N}}\\sum_{j=0}^{N-1}x_j\\omega_N^{jk}$$\n",
        "\n",
        "with $\\omega_N^{jk}$ defined as above. Note that only the amplitudes of the state were affected by this transformation.\n",
        "\n",
        "This can also be expressed as the map:\n",
        "\n",
        "$$\\vert j \\rangle \\mapsto \\frac{1}{\\sqrt{N}}\\sum_{k=0}^{N-1}\\omega_N^{jk} \\vert k \\rangle$$\n",
        "\n",
        "Or the unitary matrix:\n",
        "\n",
        "$$ U_{QFT} = \\frac{1}{\\sqrt{N}} \\sum_{j=0}^{N-1} \\sum_{k=0}^{N-1} \\omega_N^{jk} \\vert k \\rangle \\langle j \\vert$$\n",
        "\n",
        "The quantum Fourier transform (QFT) transforms between two bases, the computational (Z) basis, and the Fourier basis. The H-gate is the single-qubit QFT, and it transforms between the Z-basis states $|0\\rangle$ and $|1\\rangle$ to the X-basis states $|{+}\\rangle$ and $|{-}\\rangle$. In the same way, all multi-qubit states in the computational basis have corresponding states in the Fourier basis. The QFT is simply the function that transforms between these bases.\n",
        "\n",
        "$$\n",
        "|\\text{State in Computational Basis}\\rangle \\quad \\xrightarrow[]{\\text{QFT}} \\quad |\\text{State in Fourier Basis}\\rangle\n",
        "$$\n",
        "\n",
        "$$\n",
        "\\text{QFT}|x\\rangle = |\\widetilde{x}\\rangle\n",
        "$$\n",
        "\n",
        "(We often note states in the Fourier basis using the tilde (~)).\n",
        "\n",
        "## 1.1 Counting in the Fourier basis: <a id=\"counting-fourier\"></a>\n",
        "\n",
        "In the computational basis, we store numbers in binary using the states $|0\\rangle$ and $|1\\rangle$:\n",
        "\n",
        "![zbasis-counting.gif](<https://media-hosting.imagekit.io/68065a67cd7a41e6/zbasis-counting.gif?Expires=1837948674&Key-Pair-Id=K2ZIVPTIP2VGHC&Signature=0ncttX4FiLLhwKJRfpWvlVwgUVADzRFcuJ0bSywzclYrwdI~4N3GAZSVxlUlQiKRPT-mAKP2NGIJ2IcswMGGs3ZDaPTgtWjHURHugCA3y7S8dp1JZQXw4MxQ-vPbnDyWFwNLH-PK3scvOFstzo-eOjI5khs0hmlp9vG4SDITAtFqtfSrbNObDkQ72n6T0XifB3S0IN~Lx3I72GvRQqIOb~Ztm0~tPFbgWxCCiluMlQspREJUdlvoF7Nufp0AZ~zNzV29bgcbjN4Kb-Wr3fpsB6YhyGuWvdFhPxs4lbAMOXR1g2BfYruIZZD8HbGOH9d8BXN19f2TkRcTixrtlLvDLA__>)\n",
        "\n",
        "Note the frequency with which the different qubits change; the leftmost qubit flips with every increment in the number, the next with every 2 increments, the third with every 4 increments, and so on. In the Fourier basis, we store numbers using different rotations around the Z-axis:\n",
        "\n",
        "![fourierbasis-counting.gif](<https://media-hosting.imagekit.io/83f86d38d370473c/fourierbasis-counting.gif?Expires=1837948748&Key-Pair-Id=K2ZIVPTIP2VGHC&Signature=iiqtMDAdRpNLFARNokrn34F5Cp6NwaA6fmGwYgFntkB5Yw4aVlKwoUdccpoRRYjEhX3EcrgKCDcSfDyKj2wsgu5e0JNALeS9WInAGOuPOvHkuMymSgOTOu5pi9NIauelLdNFYg4zzoZel7j4Mr2dFX-LozArhWPqldPIOPRcBFMqZGljSmLBMEjqkV-x0P992IyWoU3Ch3XsYEJqZES88XYlfIiiS2zbyostuBKPn0aUDBMsKS9c2XsrR2qCzdLt0QtypUlzHonYIutf1MM0QShnGGi6lwFfCjjEdb2Qa0ommbuCAuvC5SDfQXJQj6akRe4oRiggLjPYe27WXHRdhg__>)\n",
        "\n",
        "The number we want to store dictates the angle at which each qubit is rotated around the Z-axis. In the state $|\\widetilde{0}\\rangle$, all qubits are in the state $|{+}\\rangle$. As seen in the example above, to encode the state $|\\widetilde{5}\\rangle$ on 4 qubits, we rotated the leftmost qubit by $\\tfrac{5}{2^n} = \\tfrac{5}{16}$ full turns ($\\tfrac{5}{16}\\times 2\\pi$ radians). The next qubit is turned double this ($\\tfrac{10}{16}\\times 2\\pi$ radians, or $10/16$ full turns), this angle is then doubled for the qubit after, and so on.\n",
        "\n",
        "Again, note the frequency with which each qubit changes. The leftmost qubit (`qubit 0`) in this case has the lowest frequency, and the rightmost the highest.\n",
        "\n"
      ],
      "metadata": {
        "id": "ubcX5h6HMlUN"
      }
    },
    {
      "cell_type": "markdown",
      "source": [
        "## 1.3. Example 1: 1-qubit QFT\n",
        "\n",
        "Consider how the QFT operator as defined above acts on a single qubit state $\\vert\\psi\\rangle = \\alpha \\vert 0 \\rangle + \\beta \\vert 1 \\rangle$. In this case, $x_0 = \\alpha$, $x_1 = \\beta$, and $N = 2$. Then,\n",
        "\n",
        "$$y_0 = \\frac{1}{\\sqrt{2}}\\left(    \\alpha \\exp\\left(2\\pi i\\frac{0\\times0}{2}\\right) + \\beta \\exp\\left(2\\pi i\\frac{1\\times0}{2}\\right)      \\right) = \\frac{1}{\\sqrt{2}}\\left(\\alpha + \\beta\\right)$$\n",
        "\n",
        "and\n",
        "\n",
        "$$y_1 = \\frac{1}{\\sqrt{2}}\\left(    \\alpha \\exp\\left(2\\pi i\\frac{0\\times1}{2}\\right) + \\beta \\exp\\left(2\\pi i\\frac{1\\times1}{2}\\right)      \\right) = \\frac{1}{\\sqrt{2}}\\left(\\alpha - \\beta\\right)$$\n",
        "\n",
        "such that the final result is the state\n",
        "\n",
        "$$U_{QFT}\\vert\\psi\\rangle = \\frac{1}{\\sqrt{2}}(\\alpha + \\beta) \\vert 0 \\rangle + \\frac{1}{\\sqrt{2}}(\\alpha - \\beta)  \\vert 1 \\rangle$$\n",
        "\n",
        "This operation is exactly the result of applying the Hadamard operator ($H$) on the qubit:\n",
        "\n",
        "$$H = \\frac{1}{\\sqrt{2}}\\begin{bmatrix} 1 & 1 \\\\ 1 & -1 \\end{bmatrix}$$\n",
        "\n",
        "If we apply the $H$ operator to the state $\\vert\\psi\\rangle = \\alpha \\vert 0 \\rangle + \\beta \\vert 1 \\rangle$, we obtain the new state:\n",
        "\n",
        "$$\\frac{1}{\\sqrt{2}}(\\alpha + \\beta) \\vert 0 \\rangle + \\frac{1}{\\sqrt{2}}(\\alpha - \\beta)  \\vert 1 \\rangle\n",
        "\\equiv \\tilde{\\alpha}\\vert 0 \\rangle + \\tilde{\\beta}\\vert 1 \\rangle$$\n",
        "\n",
        "Notice how the Hadamard gate performs the discrete Fourier transform for $N = 2$ on the amplitudes of the state."
      ],
      "metadata": {
        "id": "LvBwfqiTNRbz"
      }
    },
    {
      "cell_type": "markdown",
      "source": [
        "## 1.4. The Quantum Fourier tranfsorm\n",
        "\n",
        "So what does the quantum Fourier transform look like for larger $N$? Let's derive a transformation for $N=2^n$, $QFT_N$ acting on the state $\\vert x \\rangle = \\vert x_1\\ldots x_n \\rangle$ where $x_1$ is the most significant bit. This maths is here for those that find it useful, if you struggle with it then don’t worry; as long as you understand the intuition in section 2 then you can continue straight to the next section.\n",
        "\n",
        "$$\n",
        "\\begin{aligned}\n",
        "QFT_N\\vert x \\rangle & = \\frac{1}{\\sqrt{N}} \\sum_{y=0}^{N-1}\\omega_N^{xy} \\vert y \\rangle\n",
        "\\\\\n",
        "& = \\frac{1}{\\sqrt{N}} \\sum_{y=0}^{N-1} e^{2 \\pi i xy / 2^n} \\vert y \\rangle ~\\text{since}\\: \\omega_N^{xy} = e^{2\\pi i \\frac{xy}{N}} \\:\\text{and}\\: N = 2^n\n",
        "\\\\\n",
        "& = \\frac{1}{\\sqrt{N}} \\sum_{y=0}^{N-1} e^{2 \\pi i \\left(\\sum_{k=1}^n y_k/2^k\\right) x} \\vert y_1 \\ldots y_n \\rangle \\:\\text{rewriting in fractional binary notation}\\: y = y_1\\ldots y_n, y/2^n = \\sum_{k=1}^n y_k/2^k\n",
        "\\\\\n",
        "& = \\frac{1}{\\sqrt{N}} \\sum_{y=0}^{N-1} \\prod_{k=1}^n e^{2 \\pi i x y_k/2^k } \\vert y_1 \\ldots y_n \\rangle \\:\\text{after expanding the exponential of a sum to a product of exponentials}\n",
        "\\\\\n",
        "& = \\frac{1}{\\sqrt{N}} \\bigotimes_{k=1}^n  \\left(\\vert0\\rangle + e^{2 \\pi i x /2^k } \\vert1\\rangle \\right) \\:\\text{after rearranging the sum and products, and expanding}\n",
        "\\sum_{y=0}^{N-1} = \\sum_{y_1=0}^{1}\\sum_{y_2=0}^{1}\\ldots\\sum_{y_n=0}^{1}\n",
        "\\\\\n",
        "& = \\frac{1}{\\sqrt{N}}\n",
        "\\left(\\vert0\\rangle + e^{\\frac{2\\pi i}{2}x} \\vert1\\rangle\\right)\n",
        "\\otimes\n",
        "\\left(\\vert0\\rangle + e^{\\frac{2\\pi i}{2^2}x} \\vert1\\rangle\\right)\n",
        "\\otimes  \n",
        "\\ldots\n",
        "\\otimes\n",
        "\\left(\\vert0\\rangle + e^{\\frac{2\\pi i}{2^{n-1}}x} \\vert1\\rangle\\right)\n",
        "\\otimes\n",
        "\\left(\\vert0\\rangle + e^{\\frac{2\\pi i}{2^n}x} \\vert1\\rangle\\right)\n",
        "\\end{aligned}\n",
        "$$\n",
        "\n",
        "This is a mathematical description of the animation we saw in the intuition section:\n",
        "\n",
        "![fourierbasis-counting (1).gif](<https://media-hosting.imagekit.io/c58e99b5b71544bc/fourierbasis-counting%20(1).gif?Expires=1837948843&Key-Pair-Id=K2ZIVPTIP2VGHC&Signature=Xupced8iisqH5G2jL9hMiLifnpgOI4bgY8dhwwTR5pop1tx~VMOgA3fKQVi5qEpdC-1ycwU2NZam5Svg-WHk5hT67fnqb3Fv7m5c4KREB7DYNac~tuLqkTGtP-GuvXok3M9GWxaRw04nsnogZwKkxGoMOL~pKeaPwa~Whq2y6g8TTpU1jLcT3nyLeybKkfblA8SUuZj8fDzTjGKuWD~XNuMKwFY7yl1~6TsxM7WN2L3C-irFqqSl3SdavlSdTkAGHKeQhZpubvMSZfZob3c4RM7ohT6GZh83K705KgMpZRr2nSHmE8eTdqDlpqB2LNtCTIey8Solks7iTSCXVnvM1Q__>)"
      ],
      "metadata": {
        "id": "B9_Oy_EcNYvy"
      }
    },
    {
      "cell_type": "markdown",
      "source": [
        "# New Section"
      ],
      "metadata": {
        "id": "D3Q3ipFMJNo-"
      }
    },
    {
      "cell_type": "markdown",
      "source": [
        "## 1.5. The Circuit that Implements the QFT\n",
        "\n",
        "The circuit that implements QFT makes use of two gates. The first one is a single-qubit Hadamard gate, $H$, that you already know. From the discussion in [Example 1](#example1) above, you have already seen that the action of $H$ on the single-qubit state $\\vert x_k\\rangle$ is\n",
        "\n",
        "$$H\\vert x_k \\rangle = \\frac{1}{\\sqrt{2}}\\left(\\vert0\\rangle + \\exp\\left(\\frac{2\\pi i}{2}x_k\\right)\\vert1\\rangle\\right)$$\n",
        "\n",
        "The second is a two-qubit controlled rotation $CROT_k$ given in block-diagonal form as\n",
        "\n",
        "$$CROT_k = \\left[\\begin{matrix}\n",
        "I&0\\\\\n",
        "0&UROT_k\\\\\n",
        "\\end{matrix}\\right]$$\n",
        "\n",
        "where\n",
        "\n",
        "$$UROT_k = \\left[\\begin{matrix}\n",
        "1&0\\\\\n",
        "0&\\exp\\left(\\frac{2\\pi i}{2^k}\\right)\\\\\n",
        "\\end{matrix}\\right]$$\n",
        "\n",
        "The action of $CROT_k$ on a two-qubit state $\\vert x_l x_j\\rangle$ where the first qubit is the control and the second is the target is given by\n",
        "\n",
        "$$CROT_k\\vert 0x_j\\rangle = \\vert 0x_j\\rangle$$\n",
        "\n",
        "and\n",
        "\n",
        "$$CROT_k\\vert 1x_j\\rangle = \\exp\\left( \\frac{2\\pi i}{2^k}x_j \\right)\\vert 1x_j\\rangle$$\n",
        "\n",
        "Given these two gates, a circuit that implements [an n-qubit QFT](#qfteqn) is shown below.\n",
        "\n",
        "![qft.png](<https://media-hosting.imagekit.io/60e330e6afca4496/qft.png?Expires=1837948899&Key-Pair-Id=K2ZIVPTIP2VGHC&Signature=jNjsZ3I9VyyDheqQo-JR5iPEDpKVwJtyDlkp5Fc7hQfK83hHvgwXLhteIGRahsa4o-yMiLEqZNMOshin9zby2m9w9i-BUnQQupgLxdtleYQDsMsttCW70HqSnut382nXJCUqdLJJRNMcvXRd6RXgWMqrLNoYuhJnqrFm9Sfh8i4c8zCe50smKWsD1EFfYNphIBbGPXtB4PHasSvcx~VhnXbTzQ8OwHO~3DVSepfO6EjQ9L8yby6cu2aVtywENLemMyjC-~4JfR8DouDZpP-QGYEMxC4bESS~xFMUvno97PFVJIJdj3i7B8IlF~dTunfVCi1icE1lG01cYQQ4WTkW4g__>)\n",
        "\n",
        "The circuit operates as follows. We start with an n-qubit input state $\\vert x_1x_2\\ldots x_n\\rangle$.\n",
        "\n",
        "<ol>\n",
        "<li> After the first Hadamard gate on qubit 1, the state is transformed from the input state to\n",
        "\n",
        "$$\n",
        "H_1\\vert x_1x_2\\ldots x_n\\rangle =\n",
        "\\frac{1}{\\sqrt{2}}\n",
        "\\left[\\vert0\\rangle + \\exp\\left(\\frac{2\\pi i}{2}x_1\\right)\\vert1\\rangle\\right]\n",
        "\\otimes\n",
        "\\vert x_2x_3\\ldots x_n\\rangle\n",
        "$$\n",
        "\n",
        "<li> After the $UROT_2$ gate on qubit 1 controlled by qubit 2, the state is transformed to\n",
        "\n",
        "$$\n",
        "\\frac{1}{\\sqrt{2}}\n",
        "\\left[\\vert0\\rangle + \\exp\\left(\\frac{2\\pi i}{2^2}x_2 + \\frac{2\\pi i}{2}x_1\\right)\\vert1\\rangle\\right]\n",
        "\\otimes\n",
        "\\vert x_2x_3\\ldots x_n\\rangle\n",
        "$$\n",
        "\n",
        "<li> After the application of the last $UROT_n$ gate on qubit 1 controlled by qubit $n$, the state becomes\n",
        "\n",
        "$$\n",
        "\\frac{1}{\\sqrt{2}}\n",
        "\\left[\\vert0\\rangle +\n",
        "\\exp\\left(\n",
        "\\frac{2\\pi i}{2^n}x_n +\n",
        "\\frac{2\\pi i}{2^{n-1}}x_{n-1} +\n",
        "\\ldots +\n",
        "\\frac{2\\pi i}{2^2}x_2 +\n",
        "\\frac{2\\pi i}{2}x_1\n",
        "\\right)\n",
        "\\vert1\\rangle\\right]\n",
        "\\otimes\n",
        "\\vert x_2x_3\\ldots x_n\\rangle\n",
        "$$\n",
        "\n",
        "Noting that\n",
        "\n",
        "$$\n",
        "x = 2^{n-1}x_1 + 2^{n-2}x_2 + \\ldots + 2^1x_{n-1} + 2^0x_n\n",
        "$$\n",
        "\n",
        "we can write the above state as\n",
        "\n",
        "$$\n",
        "\\frac{1}{\\sqrt{2}}\n",
        "\\left[\\vert0\\rangle +\n",
        "\\exp\\left(\n",
        "\\frac{2\\pi i}{2^n}x\n",
        "\\right)\n",
        "\\vert1\\rangle\\right]\n",
        "\\otimes\n",
        "\\vert x_2x_3\\ldots x_n\\rangle\n",
        "$$\n",
        "\n",
        "<li> After the application of a similar sequence of gates for qubits $2\\ldots n$, we find the final state to be:\n",
        "\n",
        "$$\n",
        "\\frac{1}{\\sqrt{2}}\n",
        "\\left[\\vert0\\rangle +\n",
        "\\exp\\left(\n",
        "\\frac{2\\pi i}{2^n}x\n",
        "\\right)\n",
        "\\vert1\\rangle\\right]\n",
        "\\otimes\n",
        "\\frac{1}{\\sqrt{2}}\n",
        "\\left[\\vert0\\rangle +\n",
        "\\exp\\left(\n",
        "\\frac{2\\pi i}{2^{n-1}}x\n",
        "\\right)\n",
        "\\vert1\\rangle\\right]\n",
        "\\otimes\n",
        "\\ldots\n",
        "\\otimes\n",
        "\\frac{1}{\\sqrt{2}}\n",
        "\\left[\\vert0\\rangle +\n",
        "\\exp\\left(\n",
        "\\frac{2\\pi i}{2^{2}}x\n",
        "\\right)\n",
        "\\vert1\\rangle\\right]\n",
        "\\otimes\n",
        "\\frac{1}{\\sqrt{2}}\n",
        "\\left[\\vert0\\rangle +\n",
        "\\exp\\left(\n",
        "\\frac{2\\pi i}{2^{1}}x\n",
        "\\right)\n",
        "\\vert1\\rangle\\right]\n",
        "$$\n",
        "\n",
        "which is exactly the QFT of the input state as derived <a href=\"#qfteqn\">above</a> with the caveat that the order of the qubits is reversed in the output state.\n",
        "</ol>"
      ],
      "metadata": {
        "id": "Ghnc0Rq8Npme"
      }
    },
    {
      "cell_type": "markdown",
      "source": [
        "## 1.6. Example 2: 3-qubit QFT\n",
        "\n",
        "The steps to creating the circuit for $\\vert y_3y_2y_1\\rangle = QFT_8\\vert x_3x_2x_1\\rangle$ would be:\n",
        "\n",
        "<ol>\n",
        "<li> Apply a Hadamard gate to $\\vert x_1 \\rangle$\n",
        "\n",
        "$$\n",
        "|\\psi_1\\rangle =\n",
        "\\vert x_3\\rangle\n",
        "\\otimes\n",
        "\\vert x_2\\rangle\n",
        "\\otimes\n",
        "\\frac{1}{\\sqrt{2}}\n",
        "\\left[\n",
        "\\vert0\\rangle +\n",
        "\\exp\\left(\\frac{2\\pi i}{2}x_1\\right)\n",
        "\\vert1\\rangle\\right]\n",
        "$$\n",
        "\n",
        "<li> Apply a $UROT_2$ gate to $\\vert x_1\\rangle$ depending on $\\vert x_2\\rangle$\n",
        "\n",
        "$$\n",
        "|\\psi_2\\rangle =\n",
        "\\vert x_3\\rangle\n",
        "\\otimes\n",
        "\\vert x_2\\rangle\n",
        "\\otimes\n",
        "\\frac{1}{\\sqrt{2}}\n",
        "\\left[\n",
        "\\vert0\\rangle +\n",
        "\\exp\\left(\n",
        "\\frac{2\\pi i}{2^2}x_2 + \\frac{2\\pi i}{2}x_1\n",
        "\\right)\n",
        "\\vert1\\rangle\\right]\n",
        "$$\n",
        "\n",
        "<li> Apply a $UROT_3$ gate to $\\vert x_1\\rangle$ depending on $\\vert x_3\\rangle$\n",
        "\n",
        "$$\n",
        "|\\psi_3\\rangle =\n",
        "\\vert x_3\\rangle\n",
        "\\otimes\n",
        "\\vert x_2\\rangle\n",
        "\\otimes\n",
        "\\frac{1}{\\sqrt{2}}\n",
        "\\left[\n",
        "\\vert0\\rangle +\n",
        "\\exp\\left(\n",
        "\\frac{2\\pi i}{2^3}x_3 + \\frac{2\\pi i}{2^2}x_2 + \\frac{2\\pi i}{2}x_1\n",
        "\\right)\n",
        "\\vert1\\rangle\\right]\n",
        "$$\n",
        "\n",
        "<li> Apply a Hadamard gate to $\\vert x_2 \\rangle$\n",
        "\n",
        "$$\n",
        "|\\psi_4\\rangle =\n",
        "\\vert x_3\\rangle\n",
        "\\otimes\n",
        "\\frac{1}{\\sqrt{2}}\n",
        "\\left[\n",
        "\\vert0\\rangle +\n",
        "\\exp\\left(\n",
        "\\frac{2\\pi i}{2}x_2\n",
        "\\right)\n",
        "\\vert1\\rangle\\right]\n",
        "\\otimes\n",
        "\\frac{1}{\\sqrt{2}}\n",
        "\\left[\n",
        "\\vert0\\rangle +\n",
        "\\exp\\left(\n",
        "\\frac{2\\pi i}{2^3}x_3 + \\frac{2\\pi i}{2^2}x_2 + \\frac{2\\pi i}{2}x_1\n",
        "\\right)\n",
        "\\vert1\\rangle\\right]\n",
        "$$\n",
        "\n",
        "<li> Apply a $UROT_2$ gate to $\\vert x_2\\rangle$ depending on $\\vert x_3\\rangle$\n",
        "\n",
        "$$\n",
        "|\\psi_5\\rangle =\n",
        "\\vert x_3\\rangle\n",
        "\\otimes\n",
        "\\frac{1}{\\sqrt{2}}\n",
        "\\left[\n",
        "\\vert0\\rangle +\n",
        "\\exp\\left(\n",
        "\\frac{2\\pi i}{2^2}x_3 + \\frac{2\\pi i}{2}x_2\n",
        "\\right)\n",
        "\\vert1\\rangle\\right]\n",
        "\\otimes\n",
        "\\frac{1}{\\sqrt{2}}\n",
        "\\left[\n",
        "\\vert0\\rangle +\n",
        "\\exp\\left(\n",
        "\\frac{2\\pi i}{2^3}x_3 + \\frac{2\\pi i}{2^2}x_2 + \\frac{2\\pi i}{2}x_1\n",
        "\\right)\n",
        "\\vert1\\rangle\\right]\n",
        "$$\n",
        "\n",
        "<li> Apply a Hadamard gate to $\\vert x_3\\rangle$\n",
        "\n",
        "$$\n",
        "|\\psi_6\\rangle =\n",
        "\\frac{1}{\\sqrt{2}}\n",
        "\\left[\n",
        "\\vert0\\rangle +\n",
        "\\exp\\left(\n",
        "\\frac{2\\pi i}{2}x_3\n",
        "\\right)\n",
        "\\vert1\\rangle\\right]\n",
        "\\otimes\n",
        "\\frac{1}{\\sqrt{2}}\n",
        "\\left[\n",
        "\\vert0\\rangle +\n",
        "\\exp\\left(\n",
        "\\frac{2\\pi i}{2^2}x_3 + \\frac{2\\pi i}{2}x_2\n",
        "\\right)\n",
        "\\vert1\\rangle\\right]\n",
        "\\otimes\n",
        "\\frac{1}{\\sqrt{2}}\n",
        "\\left[\n",
        "\\vert0\\rangle +\n",
        "\\exp\\left(\n",
        "\\frac{2\\pi i}{2^3}x_3 + \\frac{2\\pi i}{2^2}x_2 + \\frac{2\\pi i}{2}x_1\n",
        "\\right)\n",
        "\\vert1\\rangle\\right]\n",
        "$$\n",
        "\n",
        "\n",
        "<li> Keep in mind the reverse order of the output state relative to the desired QFT. Therefore, we must reverse the order of the qubits (in this case swap $y_1$ and $y_3$).\n",
        "\n",
        "The example above demonstrates a very useful form of the QFT for $N=2^n$. Note that only the last qubit depends on the values of all the other input qubits and each further bit depends less and less on the input qubits. This becomes important in physical implementations of the QFT, where nearest-neighbor couplings are easier to achieve than distant couplings between qubits.\n",
        "\n",
        "Additionally, as the QFT circuit becomes large, an increasing amount of time is spent doing increasingly slight rotations. It turns out that we can ignore rotations below a certain threshold and still get decent results, this is known as the approximate QFT. This is also important in physical implementations, as reducing the number of operations can greatly reduce decoherence and potential gate errors.  "
      ],
      "metadata": {
        "id": "ZOVFjtIaN63n"
      }
    },
    {
      "cell_type": "markdown",
      "source": [
        "## 1.7. Qiskit Implementation\n",
        "\n",
        "In Qiskit, the implementation of the $CROT$ gate used in the discussion above is a controlled phase rotation gate. This gate is defined as\n",
        "\n",
        "$$\n",
        "CP(\\theta) =\n",
        "\\begin{bmatrix} 1 & 0 & 0 & 0 \\\\ 0 & 1 & 0 & 0 \\\\ 0 & 0 & 1 & 0 \\\\ 0 & 0 & 0 & e^{i\\theta}\\end{bmatrix}\n",
        "$$\n",
        "\n",
        "Hence, the mapping from the $CROT_k$ gate in the discussion above into the $CP$ gate is found from the equation\n",
        "\n",
        "$$\n",
        "\\theta = 2\\pi/2^k = \\pi/2^{k-1}\n",
        "$$\n",
        "\n",
        "### Example on 3 Qubits <a id=\"threeqft\"></a>"
      ],
      "metadata": {
        "id": "pmvNBnUuOJkT"
      }
    },
    {
      "cell_type": "markdown",
      "metadata": {
        "id": "Mpnk3HokMjJ6"
      },
      "source": [
        "It is useful to work out the relevant code for the 3-qubit case before generalizing to the $n$-qubit case. First, we must define our quantum circuit:"
      ]
    },
    {
      "cell_type": "code",
      "execution_count": null,
      "metadata": {
        "id": "7ZWt2itCIcRl"
      },
      "outputs": [],
      "source": [
        "qc = QuantumCircuit(3)"
      ]
    },
    {
      "cell_type": "markdown",
      "metadata": {
        "id": "gANtKoq4PHMO"
      },
      "source": [
        "It is useful to work out the relevant code for the 3-qubit case before generalizing to the $n$-qubit case. First, we must define our quantum circuit:"
      ]
    },
    {
      "cell_type": "code",
      "source": [
        "qc.h(2)\n",
        "qc.draw(output = 'mpl')"
      ],
      "metadata": {
        "id": "Mo_Fb7CWPJve"
      },
      "execution_count": null,
      "outputs": []
    },
    {
      "cell_type": "markdown",
      "source": [
        "Next, we want to turn this an extra quarter turn if qubit 1 is in the state $|1\\rangle$:"
      ],
      "metadata": {
        "id": "hTfMFiLKPPXY"
      }
    },
    {
      "cell_type": "code",
      "source": [
        "qc.cp(pi/2, 1, 2) # CROT from qubit 1 to qubit 2\n",
        "qc.draw(output = 'mpl')"
      ],
      "metadata": {
        "id": "gnjCTu_FPRIC"
      },
      "execution_count": null,
      "outputs": []
    },
    {
      "cell_type": "markdown",
      "metadata": {
        "id": "wGL5do5nMjJ7"
      },
      "source": [
        "And another eighth turn if the least significant qubit (0) is $|1\\rangle$:"
      ]
    },
    {
      "cell_type": "code",
      "source": [
        "qc.cp(pi/4, 0, 2) # CROT from qubit 2 to qubit 0\n",
        "qc.draw(output = 'mpl')"
      ],
      "metadata": {
        "id": "2YbSpMFMPi5e"
      },
      "execution_count": null,
      "outputs": []
    },
    {
      "cell_type": "markdown",
      "source": [
        "With that qubit taken care of, we can now ignore it and repeat the process, using the same logic for qubits 0 and 1:"
      ],
      "metadata": {
        "id": "kCmIqTMuPoDC"
      }
    },
    {
      "cell_type": "code",
      "source": [
        "qc.h(1)\n",
        "qc.cp(pi/2, 0, 1) # CROT from qubit 0 to qubit 1\n",
        "qc.h(0)\n",
        "qc.draw(output = 'mpl')"
      ],
      "metadata": {
        "id": "OCSKHmzEPpaM"
      },
      "execution_count": null,
      "outputs": []
    },
    {
      "cell_type": "markdown",
      "source": [
        "Finally we must swap the qubits 0 and 2 to complete the QFT:"
      ],
      "metadata": {
        "id": "S-Ll98fNPuOS"
      }
    },
    {
      "cell_type": "code",
      "source": [
        "qc.swap(0,2)\n",
        "qc.draw(output = 'mpl')"
      ],
      "metadata": {
        "id": "cJba_6uAPu-Y"
      },
      "execution_count": null,
      "outputs": []
    },
    {
      "cell_type": "markdown",
      "metadata": {
        "id": "PZEs5K3IMjJ8"
      },
      "source": [
        "### 1.8. General QFT Function <a id=\"generalqft\"></a>\n",
        "\n",
        "We will now create a general circuit for the QFT in Qiskit. Creating large general circuits like this is really where Qiskit shines.\n",
        "\n",
        "It is easier to build a circuit that implements the QFT with the qubits upside down, then swap them afterwards; we will start off by creating the function that rotates our qubits correctly. Let’s start as we did with the 3 qubit example, by correctly rotating the most significant qubit (the qubit with the highest index):"
      ]
    },
    {
      "cell_type": "code",
      "source": [
        "def qft_rotations(circuit, n):\n",
        "    if n == 0: # Exit function if circuit is empty\n",
        "        return circuit\n",
        "    n -= 1 # Indexes start from 0\n",
        "    circuit.h(n) # Apply the H-gate to the most significant qubit\n",
        "    for qubit in range(n):\n",
        "        # For each less significant qubit, we need to do a\n",
        "        # smaller-angled controlled rotation:\n",
        "        circuit.cp(pi/2**(n-qubit), qubit, n)"
      ],
      "metadata": {
        "id": "g0chCmWVP6cX"
      },
      "execution_count": null,
      "outputs": []
    },
    {
      "cell_type": "markdown",
      "metadata": {
        "id": "GM9Ufct7MjJ8"
      },
      "source": [
        "Let’s see how this looks:"
      ]
    },
    {
      "cell_type": "code",
      "source": [
        "qc = QuantumCircuit(4)\n",
        "qft_rotations(qc,4)\n",
        "qc.draw(output = 'mpl')"
      ],
      "metadata": {
        "id": "x3m2X6YNP9Vo"
      },
      "execution_count": null,
      "outputs": []
    },
    {
      "cell_type": "markdown",
      "metadata": {
        "id": "p6hQzJASMjJ8"
      },
      "source": [
        "We can use the widget below to see how this circuit scales with the number of qubits in our circuit:"
      ]
    },
    {
      "cell_type": "code",
      "source": [
        "from qiskit import QuantumCircuit\n",
        "from numpy import pi\n",
        "from ipywidgets import interact, IntSlider\n",
        "\n",
        "# QFT rotation subroutine\n",
        "def qft_rotations(circuit, n):\n",
        "    if n == 0:\n",
        "        return circuit\n",
        "    n -= 1\n",
        "    circuit.h(n)\n",
        "    for qubit in range(n):\n",
        "        circuit.cp(pi / 2**(n - qubit), qubit, n)\n",
        "    qft_rotations(circuit, n)\n",
        "    return circuit\n",
        "\n",
        "# Full QFT circuit with swaps\n",
        "def qft_circuit(n):\n",
        "    qc = QuantumCircuit(n)\n",
        "    qft_rotations(qc, n)\n",
        "    for i in range(n // 2):\n",
        "        qc.swap(i, n - i - 1)\n",
        "    return qc\n",
        "\n",
        "# Display function (returns figure)\n",
        "def display_qft(n):\n",
        "    qc = qft_circuit(n)\n",
        "    return qc.draw('mpl')  # RETURN the figure to make widget render it\n",
        "\n",
        "# Interactive slider\n",
        "interact(display_qft, n=IntSlider(min=2, max=6, step=1, value=3))\n"
      ],
      "metadata": {
        "id": "vmZ-I5rHQF7F"
      },
      "execution_count": null,
      "outputs": []
    },
    {
      "cell_type": "markdown",
      "metadata": {
        "id": "yJKZffHnMjJ9"
      },
      "source": [
        "Great! This is the first part of our QFT. Now we have correctly rotated the most significant qubit, we need to correctly rotate the second most significant qubit. Then we must deal with the third most significant, and so on. But why write more code? When we get to the end of our `qft_rotations()` function, we can use the same code to repeat the process on the next `n-1` qubits:"
      ]
    },
    {
      "cell_type": "code",
      "source": [
        "def qft_rotations(circuit, n):\n",
        "    \"\"\"Performs qft on the first n qubits in circuit (without swaps)\"\"\"\n",
        "    if n == 0:\n",
        "        return circuit\n",
        "    n -= 1\n",
        "    circuit.h(n)\n",
        "    for qubit in range(n):\n",
        "        circuit.cp(pi/2**(n-qubit), qubit, n)\n",
        "    # At the end of our function, we call the same function again on\n",
        "    # the next qubits (we reduced n by one earlier in the function)\n",
        "    qft_rotations(circuit, n)\n",
        "\n",
        "# Let's see how it looks:\n",
        "qc = QuantumCircuit(4)\n",
        "qft_rotations(qc,4)\n",
        "qc.draw(output = 'mpl')"
      ],
      "metadata": {
        "id": "GsMZW6wiQLMu"
      },
      "execution_count": null,
      "outputs": []
    },
    {
      "cell_type": "markdown",
      "metadata": {
        "id": "ic_rT7XFMjJ9"
      },
      "source": [
        "That was easy! Process in which a function calls itself directly or indirectly is called _recursion._ It can greatly simplify code. We can again see how this scales using the widget below:"
      ]
    },
    {
      "cell_type": "code",
      "source": [
        "from ipywidgets import interact, IntSlider\n",
        "\n",
        "# Recursive QFT rotation logic (no swaps)\n",
        "def qft_rotations(circuit, n):\n",
        "    \"\"\"Performs QFT rotations recursively (no swaps)\"\"\"\n",
        "    if n == 0:\n",
        "        return\n",
        "    n -= 1\n",
        "    circuit.h(n)\n",
        "    for qubit in range(n):\n",
        "        circuit.cp(pi / 2**(n - qubit), qubit, n)\n",
        "    qft_rotations(circuit, n)\n",
        "\n",
        "# Wrapper function: builds full QFT including swaps\n",
        "def qft_circuit(n):\n",
        "    qc = QuantumCircuit(n)\n",
        "    qft_rotations(qc, n)\n",
        "    for i in range(n // 2):\n",
        "        qc.swap(i, n - i - 1)\n",
        "    return qc\n",
        "\n",
        "# Display function for widget (returns circuit image)\n",
        "def display_qft(n):\n",
        "    qc = qft_circuit(n)\n",
        "    return qc.draw('mpl')\n",
        "\n",
        "# Create interactive widget (like scalable_circuit)\n",
        "interact(display_qft, n=IntSlider(min=2, max=6, step=1, value=3))"
      ],
      "metadata": {
        "id": "6zT3_6FsQOew"
      },
      "execution_count": null,
      "outputs": []
    },
    {
      "cell_type": "markdown",
      "metadata": {
        "id": "Co-rLq1KMjJ9"
      },
      "source": [
        "Finally, we need to add the swaps at the end of the QFT function to match the definition of the QFT. We will combine this into the final function `qft()`:"
      ]
    },
    {
      "cell_type": "code",
      "source": [
        "def swap_registers(circuit, n):\n",
        "    for qubit in range(n//2):\n",
        "        circuit.swap(qubit, n-qubit-1)\n",
        "    return circuit\n",
        "\n",
        "def qft(circuit, n):\n",
        "    \"\"\"QFT on the first n qubits in circuit\"\"\"\n",
        "    qft_rotations(circuit, n)\n",
        "    swap_registers(circuit, n)\n",
        "    return circuit\n",
        "\n",
        "# Let's see how it looks:\n",
        "qc = QuantumCircuit(4)\n",
        "qft(qc,4)\n",
        "qc.draw(output = 'mpl')"
      ],
      "metadata": {
        "id": "SHH-rgUYQS7F"
      },
      "execution_count": null,
      "outputs": []
    },
    {
      "cell_type": "markdown",
      "metadata": {
        "id": "FJVkyFasMjJ9"
      },
      "source": [
        "This is the generalised circuit for the quantum Fourier transform. We can again see how this scales using the widget below:"
      ]
    },
    {
      "cell_type": "code",
      "source": [
        "# Recursive QFT rotation logic (no swaps)\n",
        "def qft_rotations(circuit, n):\n",
        "    \"\"\"Performs QFT rotations recursively (no swaps)\"\"\"\n",
        "    if n == 0:\n",
        "        return\n",
        "    n -= 1\n",
        "    circuit.h(n)\n",
        "    for qubit in range(n):\n",
        "        circuit.cp(pi / 2**(n - qubit), qubit, n)\n",
        "    qft_rotations(circuit, n)\n",
        "\n",
        "# Wrapper function: builds full QFT including swaps\n",
        "def qft_circuit(n):\n",
        "    qc = QuantumCircuit(n)\n",
        "    qft_rotations(qc, n)\n",
        "    for i in range(n // 2):\n",
        "        qc.swap(i, n - i - 1)\n",
        "    return qc\n",
        "\n",
        "# Display function for widget (returns circuit image)\n",
        "def display_qft(n):\n",
        "    qc = qft_circuit(n)\n",
        "    return qc.draw('mpl')\n",
        "\n",
        "# Create interactive widget (like scalable_circuit)\n",
        "interact(display_qft, n=IntSlider(min=2, max=6, step=1, value=3))"
      ],
      "metadata": {
        "id": "iIPlGsfDQWQ9"
      },
      "execution_count": null,
      "outputs": []
    },
    {
      "cell_type": "markdown",
      "metadata": {
        "id": "mU6DZrIFMjKB"
      },
      "source": [
        "We now want to demonstrate this circuit works correctly. To do this we must first encode a number in the computational basis. We can see the number 5 in binary is `101`:"
      ]
    },
    {
      "cell_type": "code",
      "source": [
        "bin(5)"
      ],
      "metadata": {
        "colab": {
          "base_uri": "https://localhost:8080/",
          "height": 35
        },
        "id": "ORbuOB39QaXc",
        "outputId": "eead6af8-c66e-43f6-e00f-93ef3c3e173f"
      },
      "execution_count": null,
      "outputs": [
        {
          "output_type": "execute_result",
          "data": {
            "text/plain": [
              "'0b101'"
            ],
            "application/vnd.google.colaboratory.intrinsic+json": {
              "type": "string"
            }
          },
          "metadata": {},
          "execution_count": 48
        }
      ]
    },
    {
      "cell_type": "markdown",
      "metadata": {
        "id": "D2IB3hCJMjKB"
      },
      "source": [
        "(The `0b` just reminds us this is a binary number). Let's encode this into our qubits:"
      ]
    },
    {
      "cell_type": "code",
      "source": [
        "# Create the circuit\n",
        "qc = QuantumCircuit(3)\n",
        "\n",
        "# Encode the state 5\n",
        "qc.x(0)\n",
        "qc.x(2)\n",
        "qc.draw(output = 'mpl')"
      ],
      "metadata": {
        "id": "VYcQFN1RQdxx"
      },
      "execution_count": null,
      "outputs": []
    },
    {
      "cell_type": "markdown",
      "metadata": {
        "id": "xgzizQ29MjKB"
      },
      "source": [
        "And let's check the qubit's states using the aer simulator:"
      ]
    },
    {
      "cell_type": "code",
      "source": [
        "sim = AerSimulator()\n",
        "qc_init = qc.copy()\n",
        "qc_init.save_statevector()\n",
        "statevector = sim.run(qc_init).result().get_statevector()\n",
        "plot_bloch_multivector(statevector)"
      ],
      "metadata": {
        "id": "fSpuEsWYQjAb"
      },
      "execution_count": null,
      "outputs": []
    },
    {
      "cell_type": "markdown",
      "metadata": {
        "id": "LqqEtLZzMjKB"
      },
      "source": [
        "Finally, let's use our QFT function and view the final state of our qubits:"
      ]
    },
    {
      "cell_type": "code",
      "source": [
        "qft(qc,3)\n",
        "qc.draw(output = 'mpl')"
      ],
      "metadata": {
        "id": "L9uiyOnoQpw3"
      },
      "execution_count": null,
      "outputs": []
    },
    {
      "cell_type": "code",
      "source": [
        "qc.save_statevector()\n",
        "statevector = sim.run(qc).result().get_statevector()\n",
        "plot_bloch_multivector(statevector)"
      ],
      "metadata": {
        "id": "cCw4f3dRQrz9"
      },
      "execution_count": null,
      "outputs": []
    },
    {
      "cell_type": "markdown",
      "metadata": {
        "id": "bB_aRXAYMjKC"
      },
      "source": [
        "We can see out QFT function has worked correctly. Compared the state $|\\widetilde{0}\\rangle = |{+}{+}{+}\\rangle$, Qubit 0 has been rotated by $\\tfrac{5}{8}$ of a full turn, qubit 1 by $\\tfrac{10}{8}$ full turns (equivalent to $\\tfrac{1}{4}$ of a full turn), and qubit 2 by $\\tfrac{20}{8}$ full turns (equivalent to $\\tfrac{1}{2}$ of a full turn)."
      ]
    },
    {
      "cell_type": "markdown",
      "source": [
        "## Tasks"
      ],
      "metadata": {
        "id": "7RE2D01SxOGY"
      }
    },
    {
      "cell_type": "markdown",
      "source": [
        "1. The above implementation of QFT was tested by preparing the Fourier state $|\\widetilde{5}\\rangle$ for which $\\text{QFT}^{\\dagger}|\\widetilde{5}\\rangle = |101\\rangle$. Try to find the state $|a\\rangle$ such that $\\text{QFT}^{\\dagger}|a\\rangle = |100\\rangle$.\n",
        "2. Find the state $|b\\rangle$ such that $\\text{QFT}^{\\dagger}|b\\rangle = |011\\rangle$."
      ],
      "metadata": {
        "id": "CxFrZCYvxP6m"
      }
    },
    {
      "cell_type": "code",
      "source": [
        "## Write  your code here"
      ],
      "metadata": {
        "id": "kDgOtEhWzqPK"
      },
      "execution_count": null,
      "outputs": []
    },
    {
      "cell_type": "markdown",
      "source": [
        "## 2. Quantum Phase Estimation\n",
        "\n"
      ],
      "metadata": {
        "id": "xwCn0nXAz7ol"
      }
    },
    {
      "cell_type": "markdown",
      "metadata": {
        "id": "Tbb27Rj10F-6"
      },
      "source": [
        "Quantum phase estimation is one of the most important subroutines in quantum computation. It serves as a central building block for many quantum algorithms. The objective of the algorithm is the following:\n",
        "\n",
        "Given a unitary operator $U$, the algorithm estimates $\\theta$ in $U\\vert\\psi \\rangle =e^{\\boldsymbol{2\\pi i} \\theta }|\\psi \\rangle$. Here $|\\psi\\rangle$ is an eigenvector and $e^{\\boldsymbol{2\\pi i}\\theta}$ is the corresponding eigenvalue. Since $U$ is unitary, all of its eigenvalues have a norm of 1."
      ]
    },
    {
      "cell_type": "markdown",
      "metadata": {
        "id": "2kw1D3yx0F-7"
      },
      "source": [
        "The general quantum circuit for phase estimation is shown below. The top register contains $t$ 'counting' qubits, and the bottom contains qubits in the state $|\\psi\\rangle$:\n",
        "\n",
        "![screenshot_1743351015101.png](<https://media-hosting.imagekit.io/1f5efd2de60e44ed/screenshot_1743351015101.png?Expires=1837959016&Key-Pair-Id=K2ZIVPTIP2VGHC&Signature=zcYG6USeLzRqBlTwZSGEM8b0xOb286Ef8db99ufFigTWciQIBOsLoTEo2~V0SzOFP7FYOusQHT5Pq3M9Wd1NsbXeFSEXwMAiRTrcIr00gqRj-7NgWxx6IBrOKhDX2sX0hRiNgmSEkCsqNZojiDSw-zfl45O4qGiuiZTxtGEdzTlpcm2wG1j8M5pNvlGHhPvQG3hFXQYO7LC-mIJEULKr2UWAPV5ojaOe8Qx-wCgHTSLwe6jguhYGU5gyB~xvYHItyFFlbxxwozqSIJTgAfkjWHs1lIfMmGkaVX8oDRFNPG4-C-sWoxUuDlltDnDbj4BrqkgpG~CRqYwPz0vkoKZXqw__>)\n"
      ]
    },
    {
      "cell_type": "markdown",
      "metadata": {
        "id": "j9dGtzD90F-7"
      },
      "source": [
        "### 2.1 Intuition  \n",
        "The quantum phase estimation algorithm uses phase kickback to write the phase of $U$ (in the Fourier basis) to the $t$ qubits in the counting register. We then use the inverse QFT to translate this from the Fourier basis into the computational basis, which we can measure.\n",
        "\n",
        "We remember (from the QFT chapter) that in the Fourier basis the topmost qubit completes one full rotation when counting between $0$ and $2^t$. To count to a number, $x$ between $0$ and $2^t$, we rotate this qubit by $\\tfrac{x}{2^t}$ around the z-axis. For the next qubit we rotate by $\\tfrac{2x}{2^t}$, then $\\tfrac{4x}{2^t}$ for the third qubit.\n",
        "\n",
        "![screenshot_1743351041605.png](<https://media-hosting.imagekit.io/613463e35e7a44b1/screenshot_1743351041605.png?Expires=1837959041&Key-Pair-Id=K2ZIVPTIP2VGHC&Signature=VG7ZnglnUo2zxtA37Tv528UsRbXn6QAwTN86tlRRL3z7gKMTIsFg2hkFKBxPWzRW0RDiKCYWngpwsnBhFBH5urLNqgfIZu30eyAI-OckfxGW3THsSbarpS-2TKbbpd68HSraaIyRinQdV3ho2VxpHJjJwSQtQe3Us2tDZYBxGpsFMG2-0LXNbXdShVQjwDW1JAQtuR8vItwX7w9d3qheJthj1sRI7XW5zblV4i8Qz2fgE3OSPKjjXk6BJEVv7Axh1HHkCahRunFwMi603vkEFLEYt98~KNcgnEttEKXdXEMmdUBxaiOKVljXKVBH2WzaN3fak1MenSPL26qXadWyzg__>)\n",
        "\n",
        "When we use a qubit to control the $U$-gate, the qubit will turn (due to kickback) proportionally to the phase $e^{2i\\pi\\theta}$. We can use successive $CU$-gates to repeat this rotation an appropriate number of times until we have encoded the phase theta as a number between $0$ and $2^t$ in the Fourier basis.\n",
        "\n",
        "Then we simply use $QFT^\\dagger$ to convert this into the computational basis.\n",
        "\n"
      ]
    },
    {
      "cell_type": "markdown",
      "metadata": {
        "id": "NOPeZVL00F-8"
      },
      "source": [
        "### 2.2 Mathematical Foundation <a id='maths'></a>\n",
        "\n",
        "As mentioned above, this circuit estimates the phase of a unitary operator $U$. It estimates $\\theta$ in $U\\vert\\psi \\rangle =e^{\\boldsymbol{2\\pi i} \\theta }|\\psi \\rangle$, where $|\\psi\\rangle$ is an eigenvector and $e^{\\boldsymbol{2\\pi i}\\theta}$ is the corresponding eigenvalue. The circuit operates in the following steps:\n",
        "\n",
        "i. **Setup**: $\\vert\\psi\\rangle$ is in one set of qubit registers. An additional set of $n$ qubits form the counting register on which we will store the value $2^n\\theta$:\n",
        "\n",
        "$$ |\\psi_0\\rangle = \\lvert 0 \\rangle^{\\otimes n} \\lvert \\psi \\rangle$$\n",
        "\n",
        "ii. **Superposition**: Apply a $n$-bit Hadamard gate operation $H^{\\otimes n}$ on the counting register:\n",
        "\n",
        "$$ |\\psi_1\\rangle = {\\frac {1}{2^{\\frac {n}{2}}}}\\left(|0\\rangle +|1\\rangle \\right)^{\\otimes n} \\lvert \\psi \\rangle$$\n",
        "\n",
        "iii. **Controlled Unitary Operations**: We need to introduce the controlled unitary $CU$ that applies the unitary operator $U$ on the target register only if its corresponding control bit is $|1\\rangle$. Since $U$ is a unitary operator with eigenvector $|\\psi\\rangle$ such that $U|\\psi \\rangle =e^{\\boldsymbol{2\\pi i} \\theta }|\\psi \\rangle$, this means:\n",
        "\n",
        "\n",
        "$$U^{2^{j}}|\\psi \\rangle =U^{2^{j}-1}U|\\psi \\rangle =U^{2^{j}-1}e^{2\\pi i\\theta }|\\psi \\rangle =\\cdots =e^{2\\pi i2^{j}\\theta }|\\psi \\rangle$$\n",
        "\n",
        "\n",
        "Applying all the $n$ controlled operations $CU^{2^j}$ with $0\\leq j\\leq n-1$, and using the relation $|0\\rangle \\otimes |\\psi \\rangle +|1\\rangle \\otimes e^{2\\pi i\\theta }|\\psi \\rangle =\\left(|0\\rangle +e^{2\\pi i\\theta }|1\\rangle \\right)\\otimes |\\psi \\rangle$:\n",
        "\n",
        "$$\n",
        "\\begin{aligned}\n",
        "|\\psi_{2}\\rangle & =\\frac {1}{2^{\\frac {n}{2}}} \\left(|0\\rangle+{e^{\\boldsymbol{2\\pi i} \\theta 2^{n-1}}}|1\\rangle \\right) \\otimes \\cdots \\otimes \\left(|0\\rangle+{e^{\\boldsymbol{2\\pi i} \\theta 2^{1}}}\\vert1\\rangle \\right) \\otimes \\left(|0\\rangle+{e^{\\boldsymbol{2\\pi i} \\theta 2^{0}}}\\vert1\\rangle \\right) \\otimes |\\psi\\rangle\\\\\\\\\n",
        "& = \\frac{1}{2^{\\frac {n}{2}}}\\sum _{k=0}^{2^{n}-1}e^{\\boldsymbol{2\\pi i} \\theta k}|k\\rangle \\otimes \\vert\\psi\\rangle\n",
        "\\end{aligned}\n",
        "$$\n",
        "\n",
        "where $k$ denotes the integer representation of n-bit binary numbers.\n",
        "\n",
        "iv. **Inverse Fourier Transform**: Recall that QFT maps an n-qubit input state $\\vert x\\rangle$ into an output as\n",
        "\n",
        "$$\n",
        "QFT\\vert x \\rangle = \\frac{1}{2^\\frac{n}{2}}\n",
        "\\left(\\vert0\\rangle + e^{\\frac{2\\pi i}{2}x} \\vert1\\rangle\\right)\n",
        "\\otimes\n",
        "\\left(\\vert0\\rangle + e^{\\frac{2\\pi i}{2^2}x} \\vert1\\rangle\\right)\n",
        "\\otimes  \n",
        "\\ldots\n",
        "\\otimes\n",
        "\\left(\\vert0\\rangle + e^{\\frac{2\\pi i}{2^{n-1}}x} \\vert1\\rangle\\right)\n",
        "\\otimes\n",
        "\\left(\\vert0\\rangle + e^{\\frac{2\\pi i}{2^n}x} \\vert1\\rangle\\right)\n",
        "$$\n",
        "\n",
        "Replacing $x$ by $2^n\\theta$ in the above expression gives exactly the expression derived in step 2 above. Therefore, to recover the state $\\vert2^n\\theta\\rangle$, apply an inverse Fourier transform on the auxiliary register. Doing so, we find\n",
        "\n",
        "$$\n",
        "\\vert\\psi_3\\rangle = \\frac {1}{2^{\\frac {n}{2}}}\\sum _{k=0}^{2^{n}-1}e^{\\boldsymbol{2\\pi i} \\theta k}|k\\rangle \\otimes | \\psi \\rangle \\xrightarrow{\\mathcal{QFT}_n^{-1}} \\frac {1}{2^n}\\sum _{x=0}^{2^{n}-1}\\sum _{k=0}^{2^{n}-1} e^{-\\frac{2\\pi i k}{2^n}(x - 2^n \\theta)} |x\\rangle \\otimes |\\psi\\rangle\n",
        "$$\n",
        "\n",
        "v. **Measurement**:\n",
        "The above expression peaks near $x = 2^n\\theta$. For the case when $2^n\\theta$ is an integer, measuring in the computational basis gives the phase in the auxiliary register with high probability:\n",
        "\n",
        "\n",
        "\n",
        "$$ |\\psi_4\\rangle = | 2^n \\theta \\rangle \\otimes | \\psi \\rangle$$\n",
        "\n",
        "\n",
        "\n",
        "For the case when $2^n\\theta$ is not an integer, it can be shown that the above expression still peaks near $x = 2^n\\theta$ with probability better than $4/\\pi^2 \\approx 40\\%$ [1]."
      ]
    },
    {
      "cell_type": "markdown",
      "metadata": {
        "id": "ZS5YHg640F-8"
      },
      "source": [
        "## 2.3. Example: T-gate <a id='example_t_gate'></a>"
      ]
    },
    {
      "cell_type": "markdown",
      "metadata": {
        "id": "oChLUFEI0F-9"
      },
      "source": [
        "Let’s take a gate we know well, the $T$-gate, and use Quantum Phase Estimation to estimate its phase. You will remember that the $T$-gate adds a phase of $e^\\frac{i\\pi}{4}$ to the state $|1\\rangle$:\n",
        "\n",
        "$$ T|1\\rangle =\n",
        "\\begin{bmatrix}\n",
        "1 & 0\\\\\n",
        "0 & e^\\frac{i\\pi}{4}\\\\\n",
        "\\end{bmatrix}\n",
        "\\begin{bmatrix}\n",
        "0\\\\\n",
        "1\\\\\n",
        "\\end{bmatrix}\n",
        "= e^\\frac{i\\pi}{4}|1\\rangle $$\n",
        "\n",
        "Since QPE will give us $\\theta$ where:\n",
        "\n",
        "\n",
        "\n",
        "$$ T|1\\rangle = e^{2i\\pi\\theta}|1\\rangle $$\n",
        "\n",
        "\n",
        "\n",
        "We expect to find:\n",
        "\n",
        "\n",
        "\n",
        "$$\\theta = \\frac{1}{8}$$\n",
        "\n",
        "\n",
        "\n",
        "In this example we will use three qubits and obtain an _exact_ result (not an estimation!)"
      ]
    },
    {
      "cell_type": "markdown",
      "source": [
        "### 2.4 Creating the Circuit\n",
        "\n",
        "Now, set up the quantum circuit. We will use four qubits -- qubits 0 to 2 as counting qubits, and qubit 3 as the eigenstate of the unitary operator ($T$).\n",
        "\n",
        "We initialize $\\vert\\psi\\rangle = \\vert1\\rangle$ by applying an $X$ gate:"
      ],
      "metadata": {
        "id": "MUbSoKNj08t5"
      }
    },
    {
      "cell_type": "code",
      "source": [
        "qpe = QuantumCircuit(4, 3)\n",
        "qpe.x(3)\n",
        "qpe.draw(output = 'mpl')"
      ],
      "metadata": {
        "id": "wOI8YH6M1E51"
      },
      "execution_count": null,
      "outputs": []
    },
    {
      "cell_type": "markdown",
      "metadata": {
        "id": "LaTOEhgh0F-_"
      },
      "source": [
        "Next, we apply Hadamard gates to the counting qubits:"
      ]
    },
    {
      "cell_type": "code",
      "execution_count": null,
      "metadata": {
        "id": "diMEHM0S0F-_"
      },
      "outputs": [],
      "source": [
        "for qubit in range(3):\n",
        "    qpe.h(qubit)\n",
        "qpe.draw(output = 'mpl')"
      ]
    },
    {
      "cell_type": "markdown",
      "metadata": {
        "id": "4p-nPclO0F-_"
      },
      "source": [
        "Next we perform the controlled unitary operations.\n",
        "\n",
        "We'll use Qiskit's [`PhaseGate`](https://qiskit.org/documentation/stubs/qiskit.circuit.library.PhaseGate.html) to create the $T$ operation. The phase gate does the transformation $P|1\\rangle = e^{i\\lambda}|1\\rangle$, where $\\lambda$ is the angle we provide. Since we want to implement $T$, which performs $T|1\\rangle = e^{2\\pi i \\theta}|1\\rangle$, we need to set $\\lambda = \\tfrac{2 \\pi}{8} = \\pi/4$.\n",
        "\n",
        "Also remember that Qiskit orders its qubits the opposite way round to the circuit diagram in the overview."
      ]
    },
    {
      "cell_type": "code",
      "source": [
        "repetitions = 1\n",
        "for counting_qubit in range(3):\n",
        "    for i in range(repetitions):\n",
        "        qpe.cp(math.pi/4, counting_qubit, 3); # controlled-T\n",
        "    repetitions *= 2\n",
        "qpe.draw(output = 'mpl')"
      ],
      "metadata": {
        "id": "pFdh843X1RCd"
      },
      "execution_count": null,
      "outputs": []
    },
    {
      "cell_type": "markdown",
      "metadata": {
        "id": "nqkDNGHq0F_A"
      },
      "source": [
        "We apply the inverse quantum Fourier transformation to convert the state of the counting register, then measure the counting register:"
      ]
    },
    {
      "cell_type": "code",
      "source": [
        "from qiskit.circuit.library import QFT\n",
        "qpe.barrier()\n",
        "# Apply inverse QFT\n",
        "qpe = qpe.compose(QFT(3, inverse=True), [0,1,2])\n",
        "# Measure\n",
        "qpe.barrier()\n",
        "for n in range(3):\n",
        "    qpe.measure(n,n)\n",
        "\n",
        "qpe.draw(output = 'mpl')"
      ],
      "metadata": {
        "id": "u_nmbxi11WjR"
      },
      "execution_count": null,
      "outputs": []
    },
    {
      "cell_type": "markdown",
      "metadata": {
        "id": "x0aOZiS40F_A"
      },
      "source": [
        "### 2.5. Visualization of Results\n"
      ]
    },
    {
      "cell_type": "code",
      "source": [
        "aer_sim = AerSimulator()\n",
        "shots = 2048\n",
        "t_qpe = transpile(qpe, aer_sim)\n",
        "results = aer_sim.run(t_qpe, shots=shots).result()\n",
        "answer = results.get_counts()\n",
        "\n",
        "plot_histogram(answer)"
      ],
      "metadata": {
        "id": "tfiTuVzl1sCZ"
      },
      "execution_count": null,
      "outputs": []
    },
    {
      "cell_type": "markdown",
      "metadata": {
        "id": "yTwztiJu0F_B"
      },
      "source": [
        "We see we get one result (`001`) with certainty, which translates to the decimal: `1`. We now need to divide our result (`1`) by $2^n$ to get $\\theta$:\n",
        "\n",
        "\n",
        "\n",
        "$$ \\theta = \\frac{1}{2^3} = \\frac{1}{8} $$\n",
        "\n",
        "\n",
        "\n",
        "This is exactly the result we expected!"
      ]
    },
    {
      "cell_type": "markdown",
      "metadata": {
        "id": "cc-Xf6gK0F_B"
      },
      "source": [
        "## 2.6. Example: Getting More Precision: The Problem\n",
        "\n",
        "Instead of a $T$-gate, let’s use a gate with $\\theta = \\frac{1}{3}$.\n",
        "\n",
        "In the cell below, we set up our circuit as we did with the last example.\n",
        "\n",
        "We'll use Qiskit's [`PhaseGate`](https://qiskit.org/documentation/stubs/qiskit.circuit.library.PhaseGate.html) again, which does $P|1\\rangle = e^{i\\lambda}|1\\rangle$. Since we want to implement $U|1\\rangle = e^{2\\pi i \\tfrac{1}{3}}|1\\rangle$, we need to set $\\lambda = \\tfrac{2 \\pi}{3}$."
      ]
    },
    {
      "cell_type": "code",
      "execution_count": null,
      "metadata": {
        "id": "N_WmGOSx0F_B"
      },
      "outputs": [],
      "source": [
        "# Create and set up circuit\n",
        "qpe2 = QuantumCircuit(4, 3)\n",
        "\n",
        "# Apply H-Gates to counting qubits:\n",
        "for qubit in range(3):\n",
        "    qpe2.h(qubit)\n",
        "\n",
        "# Prepare our eigenstate |psi>:\n",
        "qpe2.x(3)\n",
        "\n",
        "# Do the controlled-U operations:\n",
        "angle = 2*math.pi/3\n",
        "repetitions = 1\n",
        "for counting_qubit in range(3):\n",
        "    for i in range(repetitions):\n",
        "        qpe2.cp(angle, counting_qubit, 3);\n",
        "    repetitions *= 2\n",
        "\n",
        "# Do the inverse QFT:\n",
        "qpe2 = qpe2.compose(QFT(3, inverse=True), [0,1,2])\n",
        "\n",
        "# Measure of course!\n",
        "for n in range(3):\n",
        "    qpe2.measure(n,n)\n",
        "\n",
        "qpe2.draw(output = 'mpl')"
      ]
    },
    {
      "cell_type": "code",
      "execution_count": null,
      "metadata": {
        "id": "g3Ot6vGV0F_B"
      },
      "outputs": [],
      "source": [
        "# Let's see the results!\n",
        "aer_sim = AerSimulator()\n",
        "shots = 4096\n",
        "t_qpe2 = transpile(qpe2, aer_sim)\n",
        "results = aer_sim.run(t_qpe2, shots=shots).result()\n",
        "answer = results.get_counts()\n",
        "\n",
        "plot_histogram(answer)"
      ]
    },
    {
      "cell_type": "markdown",
      "metadata": {
        "id": "i7ND-7Yh0F_C"
      },
      "source": [
        "We are expecting the result $\\theta = 0.3333\\dots$, and we see our most likely results are `010(bin) = 2(dec)` and `011(bin) = 3(dec)`. These two results would tell us that $\\theta = 0.25$ (off by 25%) and $\\theta = 0.375$ (off by 13%) respectively. The true value of $\\theta$ lies between the values we can get from our counting bits, and this gives us uncertainty and imprecision.\n",
        "\n",
        "### 2.7. The Solution\n",
        "To get more precision we simply add more counting qubits. We are going to add two more counting qubits:"
      ]
    },
    {
      "cell_type": "code",
      "execution_count": null,
      "metadata": {
        "scrolled": false,
        "id": "b_TR_thb0F_C"
      },
      "outputs": [],
      "source": [
        "# Create and set up circuit\n",
        "qpe3 = QuantumCircuit(6, 5)\n",
        "\n",
        "# Apply H-Gates to counting qubits:\n",
        "for qubit in range(5):\n",
        "    qpe3.h(qubit)\n",
        "\n",
        "# Prepare our eigenstate |psi>:\n",
        "qpe3.x(5)\n",
        "\n",
        "# Do the controlled-U operations:\n",
        "angle = 2*math.pi/3\n",
        "repetitions = 1\n",
        "for counting_qubit in range(5):\n",
        "    for i in range(repetitions):\n",
        "        qpe3.cp(angle, counting_qubit, 5);\n",
        "    repetitions *= 2\n",
        "\n",
        "# Do the inverse QFT:\n",
        "qpe3 = qpe3.compose(QFT(5, inverse=True), range(5))\n",
        "\n",
        "# Measure of course!\n",
        "qpe3.barrier()\n",
        "for n in range(5):\n",
        "    qpe3.measure(n,n)\n",
        "\n",
        "qpe3.draw(output = 'mpl')"
      ]
    },
    {
      "cell_type": "code",
      "execution_count": null,
      "metadata": {
        "id": "Z7JBAix00F_C"
      },
      "outputs": [],
      "source": [
        "# Let's see the results!\n",
        "aer_sim = AerSimulator()\n",
        "shots = 4096\n",
        "t_qpe3 = transpile(qpe3, aer_sim)\n",
        "results = aer_sim.run(t_qpe3, shots=shots).result()\n",
        "answer = results.get_counts()\n",
        "\n",
        "plot_histogram(answer)"
      ]
    },
    {
      "cell_type": "markdown",
      "metadata": {
        "id": "W8EhWA630F_C"
      },
      "source": [
        "The two most likely measurements are now `01011` (decimal 11) and `01010` (decimal 10). Measuring these results would tell us $\\theta$ is:\n",
        "\n",
        "$$\n",
        "\\theta = \\frac{11}{2^5} = 0.344,\\;\\text{  or  }\\;\\; \\theta = \\frac{10}{2^5} = 0.313\n",
        "$$\n",
        "\n",
        "These two results differ from $\\frac{1}{3}$ by 3% and 6% respectively. A much better precision!"
      ]
    },
    {
      "cell_type": "markdown",
      "metadata": {
        "tags": [
          "remove_cell"
        ],
        "id": "mjDC7C1z75jd"
      },
      "source": [
        "# 3. Shor's Algorithm"
      ]
    },
    {
      "cell_type": "markdown",
      "metadata": {
        "id": "5mI7g8Jl75je"
      },
      "source": [
        "Shor’s algorithm is famous for factoring integers in polynomial time. Since the best-known classical algorithm requires greater-than-polynomial time to factor the product of two primes, the widely used cryptographic protocol, RSA, relies on factoring being impossible for large enough integers.\n",
        "\n",
        "In this chapter we will focus on the quantum part of Shor’s algorithm, which actually solves the problem of _period finding_. Since a factoring problem can be turned into a period finding problem in polynomial time, an efficient period finding algorithm can be used to factor integers efficiently too. For now its enough to show that if we can compute the period of $a^x\\bmod N$ efficiently, then we can also efficiently factor. Since period finding is a worthy problem in its own right, we will first solve this, then discuss how this can be used to factor in section 5."
      ]
    },
    {
      "cell_type": "markdown",
      "metadata": {
        "id": "r7Wngzvc75jg"
      },
      "source": [
        "## 3. 1. The Problem: Period Finding\n",
        "\n",
        "Let’s look at the periodic function:\n",
        "\n",
        "$$ f(x) = a^x \\bmod{N}$$\n",
        "\n",
        "<details>\n",
        "    <summary>Reminder: Modulo &amp; Modular Arithmetic (Click here to expand)</summary>\n",
        "\n",
        "The modulo operation (abbreviated to 'mod') simply means to find the remainder when dividing one number by another. For example:\n",
        "\n",
        "$$ 17 \\bmod 5 = 2 $$\n",
        "\n",
        "Since $17 \\div 5 = 3$ with remainder $2$. (i.e. $17 = (3\\times 5) + 2$). In Python, the modulo operation is denoted through the <code>%</code> symbol.\n",
        "\n",
        "This behaviour is used in <a href=\"https://en.wikipedia.org/wiki/Modular_arithmetic\">modular arithmetic</a>, where numbers 'wrap round' after reaching a certain value (the modulus). Using modular arithmetic, we could write:\n",
        "\n",
        "$$ 17 = 2 \\pmod 5$$\n",
        "\n",
        "Note that here the $\\pmod 5$ applies to the entire equation (since it's in parenthesis), unlike the equation above where it only applied to the left-hand side of the equation.\n",
        "</details>\n",
        "\n",
        "where $a$ and $N$ are positive integers, $a$ is less than $N$, and they have no common factors. The period, or order ($r$), is the smallest (non-zero) integer such that:\n",
        "\n",
        "$$a^r \\bmod N = 1 $$\n",
        "\n",
        "We can see an example of this function plotted on the graph below. Note that the lines between points are to help see the periodicity and do not represent the intermediate values between the x-markers."
      ]
    },
    {
      "cell_type": "code",
      "execution_count": null,
      "metadata": {
        "tags": [
          "remove_input"
        ],
        "id": "HgoisGH475jh"
      },
      "outputs": [],
      "source": [
        "N = 35\n",
        "a = 3\n",
        "\n",
        "# Calculate the plotting data\n",
        "xvals = np.arange(35)\n",
        "yvals = [np.mod(a**x, N) for x in xvals]\n",
        "\n",
        "# Use matplotlib to display it nicely\n",
        "fig, ax = plt.subplots()\n",
        "ax.plot(xvals, yvals, linewidth=1, linestyle='dotted', marker='x')\n",
        "ax.set(xlabel='$x$', ylabel=f'${a}^x$ mod ${N}$',\n",
        "       title=\"Example of Periodic Function in Shor's Algorithm\")\n",
        "try: # plot r on the graph\n",
        "    r = yvals[1:].index(1) + 1\n",
        "    plt.annotate('', xy=(0,1), xytext=(r,1),\n",
        "                 arrowprops=dict(arrowstyle='<->'))\n",
        "    plt.annotate(f'$r={r}$', xy=(r/3,1.5))\n",
        "except ValueError:\n",
        "    print('Could not find period, check a < N and have no common factors.')"
      ]
    },
    {
      "cell_type": "markdown",
      "metadata": {
        "id": "QnWMETAZ75jh"
      },
      "source": [
        "## 3. 2. The Solution\n",
        "\n",
        "Shor’s solution was to use quantum phase estimation on the unitary operator:\n",
        "\n",
        "$$ U|y\\rangle \\equiv |ay \\bmod N \\rangle $$\n",
        "\n",
        "To see how this is helpful, let’s work out what an eigenstate of U might look like. If we started in the state $|1\\rangle$, we can see that each successive application of U will multiply the state of our register by $a \\pmod N$, and after $r$ applications we will arrive at the state $|1\\rangle$ again. For example with $a = 3$ and $N = 35$:\n",
        "\n",
        "$$\\begin{aligned}\n",
        "U|1\\rangle &= |3\\rangle & \\\\\n",
        "U^2|1\\rangle &= |9\\rangle \\\\\n",
        "U^3|1\\rangle &= |27\\rangle \\\\\n",
        "& \\vdots \\\\\n",
        "U^{(r-1)}|1\\rangle &= |12\\rangle \\\\\n",
        "U^r|1\\rangle &= |1\\rangle\n",
        "\\end{aligned}$$"
      ]
    },
    {
      "cell_type": "code",
      "execution_count": null,
      "metadata": {
        "scrolled": false,
        "tags": [
          "remove_input"
        ],
        "id": "2cPw8H_775ji"
      },
      "outputs": [],
      "source": [
        "ax.set(xlabel='Number of applications of U',\n",
        "       ylabel='End state of register',\n",
        "       title=\"Effect of Successive Applications of U\")\n",
        "fig"
      ]
    },
    {
      "cell_type": "markdown",
      "metadata": {
        "id": "5zT-mI4T75ji"
      },
      "source": [
        "So a superposition of the states in this cycle ($|u_0\\rangle$) would be an eigenstate of $U$:\n",
        "\n",
        "$$|u_0\\rangle = \\tfrac{1}{\\sqrt{r}}\\sum_{k=0}^{r-1}{|a^k \\bmod N\\rangle} $$\n",
        "\n",
        "\n",
        "<details>\n",
        "    <summary>Click to Expand: Example with $a = 3$ and $N=35$</summary>\n",
        "\n",
        "$$\\begin{aligned}\n",
        "|u_0\\rangle &= \\tfrac{1}{\\sqrt{12}}(|1\\rangle + |3\\rangle + |9\\rangle \\dots + |4\\rangle + |12\\rangle) \\\\[10pt]\n",
        "U|u_0\\rangle &= \\tfrac{1}{\\sqrt{12}}(U|1\\rangle + U|3\\rangle + U|9\\rangle \\dots + U|4\\rangle + U|12\\rangle) \\\\[10pt]\n",
        " &= \\tfrac{1}{\\sqrt{12}}(|3\\rangle + |9\\rangle + |27\\rangle \\dots + |12\\rangle + |1\\rangle) \\\\[10pt]\n",
        " &= |u_0\\rangle\n",
        "\\end{aligned}$$\n",
        "</details>\n",
        "\n",
        "\n",
        "This eigenstate has an eigenvalue of 1, which isn’t very interesting. A more interesting eigenstate could be one in which the phase is different for each of these computational basis states. Specifically, let’s look at the case in which the phase of the $k^\\text{th}$ state is proportional to $k$:\n",
        "\n",
        "$$\\begin{aligned}\n",
        "|u_1\\rangle &= \\tfrac{1}{\\sqrt{r}}\\sum_{k=0}^{r-1}{e^{-\\tfrac{2\\pi i k}{r}}|a^k \\bmod N\\rangle}\\\\[10pt]\n",
        "U|u_1\\rangle &= e^{\\tfrac{2\\pi i}{r}}|u_1\\rangle\n",
        "\\end{aligned}\n",
        "$$\n",
        "\n",
        "<details>\n",
        "    <summary>Click to Expand: Example with $a = 3$ and $N=35$</summary>\n",
        "\n",
        "$$\\begin{aligned}\n",
        "|u_1\\rangle &= \\tfrac{1}{\\sqrt{12}}(|1\\rangle + e^{-\\tfrac{2\\pi i}{12}}|3\\rangle + e^{-\\tfrac{4\\pi i}{12}}|9\\rangle \\dots + e^{-\\tfrac{20\\pi i}{12}}|4\\rangle + e^{-\\tfrac{22\\pi i}{12}}|12\\rangle) \\\\[10pt]\n",
        "U|u_1\\rangle &= \\tfrac{1}{\\sqrt{12}}(|3\\rangle + e^{-\\tfrac{2\\pi i}{12}}|9\\rangle + e^{-\\tfrac{4\\pi i}{12}}|27\\rangle \\dots + e^{-\\tfrac{20\\pi i}{12}}|12\\rangle + e^{-\\tfrac{22\\pi i}{12}}|1\\rangle) \\\\[10pt]\n",
        "U|u_1\\rangle &= e^{\\tfrac{2\\pi i}{12}}\\cdot\\tfrac{1}{\\sqrt{12}}(e^{\\tfrac{-2\\pi i}{12}}|3\\rangle + e^{-\\tfrac{4\\pi i}{12}}|9\\rangle + e^{-\\tfrac{6\\pi i}{12}}|27\\rangle \\dots + e^{-\\tfrac{22\\pi i}{12}}|12\\rangle + e^{-\\tfrac{24\\pi i}{12}}|1\\rangle) \\\\[10pt]\n",
        "U|u_1\\rangle &= e^{\\tfrac{2\\pi i}{12}}|u_1\\rangle\n",
        "\\end{aligned}$$\n",
        "\n",
        "(We can see $r = 12$ appears in the denominator of the phase.)\n",
        "</details>\n",
        "\n",
        "This is a particularly interesting eigenvalue as it contains $r$. In fact, $r$ has to be included to make sure the phase differences between the $r$ computational basis states are equal. This is not the only eigenstate with this behaviour; to generalise this further, we can multiply an integer, $s$, to this phase difference, which will show up in our eigenvalue:\n",
        "\n",
        "$$\\begin{aligned}\n",
        "|u_s\\rangle &= \\tfrac{1}{\\sqrt{r}}\\sum_{k=0}^{r-1}{e^{-\\tfrac{2\\pi i s k}{r}}|a^k \\bmod N\\rangle}\\\\[10pt]\n",
        "U|u_s\\rangle &= e^{\\tfrac{2\\pi i s}{r}}|u_s\\rangle\n",
        "\\end{aligned}\n",
        "$$\n",
        "\n",
        "<details>\n",
        "    <summary>Click to Expand: Example with $a = 3$ and $N=35$</summary>\n",
        "\n",
        "$$\\begin{aligned}\n",
        "|u_s\\rangle &= \\tfrac{1}{\\sqrt{12}}(|1\\rangle + e^{-\\tfrac{2\\pi i s}{12}}|3\\rangle + e^{-\\tfrac{4\\pi i s}{12}}|9\\rangle \\dots + e^{-\\tfrac{20\\pi i s}{12}}|4\\rangle + e^{-\\tfrac{22\\pi i s}{12}}|12\\rangle) \\\\[10pt]\n",
        "U|u_s\\rangle &= \\tfrac{1}{\\sqrt{12}}(|3\\rangle + e^{-\\tfrac{2\\pi i s}{12}}|9\\rangle + e^{-\\tfrac{4\\pi i s}{12}}|27\\rangle \\dots + e^{-\\tfrac{20\\pi i s}{12}}|12\\rangle + e^{-\\tfrac{22\\pi i s}{12}}|1\\rangle) \\\\[10pt]\n",
        "U|u_s\\rangle &= e^{\\tfrac{2\\pi i s}{12}}\\cdot\\tfrac{1}{\\sqrt{12}}(e^{-\\tfrac{2\\pi i s}{12}}|3\\rangle + e^{-\\tfrac{4\\pi i s}{12}}|9\\rangle + e^{-\\tfrac{6\\pi i s}{12}}|27\\rangle \\dots + e^{-\\tfrac{22\\pi i s}{12}}|12\\rangle + e^{-\\tfrac{24\\pi i s}{12}}|1\\rangle) \\\\[10pt]\n",
        "U|u_s\\rangle &= e^{\\tfrac{2\\pi i s}{12}}|u_s\\rangle\n",
        "\\end{aligned}$$\n",
        "\n",
        "</details>\n",
        "\n",
        "We now have a unique eigenstate for each integer value of $s$ where $0 \\leq s \\leq r-1.$ Very conveniently, if we sum up all these eigenstates, the different phases cancel out all computational basis states except $|1\\rangle$:\n",
        "\n",
        "$$ \\tfrac{1}{\\sqrt{r}}\\sum_{s=0}^{r-1} |u_s\\rangle = |1\\rangle$$\n",
        "\n",
        "<details>\n",
        "    <summary>Click to Expand: Example with $a = 7$ and $N=15$</summary>\n",
        "\n",
        "For this, we will look at a smaller example where $a = 7$ and $N=15$. In this case $r=4$:\n",
        "\n",
        "$$\\begin{aligned}\n",
        "\\tfrac{1}{2}(\\quad|u_0\\rangle &= \\tfrac{1}{2}(|1\\rangle \\hphantom{e^{-\\tfrac{2\\pi i}{12}}}+ |7\\rangle \\hphantom{e^{-\\tfrac{12\\pi i}{12}}} + |4\\rangle \\hphantom{e^{-\\tfrac{12\\pi i}{12}}} + |13\\rangle)\\dots \\\\[10pt]\n",
        "+ |u_1\\rangle &= \\tfrac{1}{2}(|1\\rangle + e^{-\\tfrac{2\\pi i}{4}}|7\\rangle + e^{-\\tfrac{\\hphantom{1}4\\pi i}{4}}|4\\rangle + e^{-\\tfrac{\\hphantom{1}6\\pi i}{4}}|13\\rangle)\\dots \\\\[10pt]\n",
        "+ |u_2\\rangle &= \\tfrac{1}{2}(|1\\rangle + e^{-\\tfrac{4\\pi i}{4}}|7\\rangle + e^{-\\tfrac{\\hphantom{1}8\\pi i}{4}}|4\\rangle + e^{-\\tfrac{12\\pi i}{4}}|13\\rangle)\\dots \\\\[10pt]\n",
        "+ |u_3\\rangle &= \\tfrac{1}{2}(|1\\rangle + e^{-\\tfrac{6\\pi i}{4}}|7\\rangle + e^{-\\tfrac{12\\pi i}{4}}|4\\rangle + e^{-\\tfrac{18\\pi i}{4}}|13\\rangle)\\quad) = |1\\rangle \\\\[10pt]\n",
        "\\end{aligned}$$\n",
        "\n",
        "</details>\n",
        "\n",
        "Since the computational basis state $|1\\rangle$ is a superposition of these eigenstates, which means if we do QPE on $U$ using the state $|1\\rangle$, we will measure a phase:\n",
        "\n",
        "$$\\phi = \\frac{s}{r}$$\n",
        "\n",
        "Where $s$ is a random integer between $0$ and $r-1$. We finally use the [continued fractions](https://en.wikipedia.org/wiki/Continued_fraction) algorithm on $\\phi$ to find $r$. The circuit diagram looks like this (note that this diagram uses Qiskit's qubit ordering convention):\n",
        "\n",
        "![screenshot_1743353306122.png](<https://media-hosting.imagekit.io/4dfb22cd27434537/screenshot_1743353306122.png?Expires=1837961306&Key-Pair-Id=K2ZIVPTIP2VGHC&Signature=fHyBu8DpTcvWmgFHRR5QgkZk0W8sEmkhjiC5Vq6V6-2-qKLLM1Vd7NEJFEpKIsWwGWYDW7dT9~IEOgbJbRIj8Uff~jHQMVVHeKMU1z1ImZs4WxZhp6GpN0OshHwwSgXuHZRXIFGJS7iG8P7PzBWcioyfi-JWArFDL5S-NnjxPrjsSvg7GP0LiRCbHWD3oGXOj-It2hsRQvlXPw812rW-HpulucKzgEHXkIFrWPLtlKsweMGGQU6nvKGndVd2DqgmZmmuji~EqRjOdA4-l0m2FGakTrvakNBvHJRgr-HRxL9isbeDP0CJOamOm57IcYfoFQycJfFXZhuxY3bInNIRTg__>)\n",
        "\n",
        "We will next demonstrate Shor’s algorithm using Qiskit’s simulators. For this demonstration we will provide the circuits for $U$ without explanation, but in section 4 we will discuss how circuits for $U^{2^j}$ can be constructed efficiently."
      ]
    },
    {
      "cell_type": "markdown",
      "metadata": {
        "id": "k3ngL2dP75ji"
      },
      "source": [
        "## 3.3. Qiskit Implementation\n",
        "\n",
        "In this example we will solve the period finding problem for $a=7$ and $N=15$. We provide the circuits for $U$ where:\n",
        "\n",
        "$$U|y\\rangle = |ay\\bmod 15\\rangle $$\n",
        "\n",
        "without explanation. To create $U^x$, we will simply repeat the circuit $x$ times. In the next section we will discuss a general method for creating these circuits efficiently. The function `c_amod15` returns the controlled-U gate for `a`, repeated `power` times."
      ]
    },
    {
      "cell_type": "code",
      "execution_count": null,
      "metadata": {
        "tags": [
          "thebelab-init"
        ],
        "id": "YcDBnUS575ji"
      },
      "outputs": [],
      "source": [
        "def c_amod15(a, power):\n",
        "    \"\"\"Controlled multiplication by a mod 15\"\"\"\n",
        "    if a not in [2,4,7,8,11,13]:\n",
        "        raise ValueError(\"'a' must be 2,4,7,8,11 or 13\")\n",
        "    U = QuantumCircuit(4)\n",
        "    for _iteration in range(power):\n",
        "        if a in [2,13]:\n",
        "            U.swap(2,3)\n",
        "            U.swap(1,2)\n",
        "            U.swap(0,1)\n",
        "        if a in [7,8]:\n",
        "            U.swap(0,1)\n",
        "            U.swap(1,2)\n",
        "            U.swap(2,3)\n",
        "        if a in [4, 11]:\n",
        "            U.swap(1,3)\n",
        "            U.swap(0,2)\n",
        "        if a in [7,11,13]:\n",
        "            for q in range(4):\n",
        "                U.x(q)\n",
        "    U = U.to_gate()\n",
        "    U.name = f\"{a}^{power} mod 15\"\n",
        "    c_U = U.control()\n",
        "    return c_U"
      ]
    },
    {
      "cell_type": "markdown",
      "metadata": {
        "id": "6Nlg4PBI75jj"
      },
      "source": [
        "We will use 8 counting qubits:"
      ]
    },
    {
      "cell_type": "code",
      "execution_count": null,
      "metadata": {
        "tags": [
          "thebelab-init"
        ],
        "id": "OR6M_Trp75jj"
      },
      "outputs": [],
      "source": [
        "# Specify variables\n",
        "N_COUNT = 8  # number of counting qubits\n",
        "a = 7"
      ]
    },
    {
      "cell_type": "markdown",
      "metadata": {
        "id": "GzJsF2on75jj"
      },
      "source": [
        "We also import the circuit for the QFT (you can read more about the QFT in the [quantum Fourier transform chapter](./quantum-fourier-transform.html#generalqft)):"
      ]
    },
    {
      "cell_type": "code",
      "execution_count": null,
      "metadata": {
        "tags": [
          "thebelab-init"
        ],
        "id": "Z9CS1xz-75jj"
      },
      "outputs": [],
      "source": [
        "def qft_dagger(n):\n",
        "    \"\"\"n-qubit QFTdagger the first n qubits in circ\"\"\"\n",
        "    qc = QuantumCircuit(n)\n",
        "    # Don't forget the Swaps!\n",
        "    for qubit in range(n//2):\n",
        "        qc.swap(qubit, n-qubit-1)\n",
        "    for j in range(n):\n",
        "        for m in range(j):\n",
        "            qc.cp(-np.pi/float(2**(j-m)), m, j)\n",
        "        qc.h(j)\n",
        "    qc.name = \"QFT†\"\n",
        "    return qc"
      ]
    },
    {
      "cell_type": "markdown",
      "metadata": {
        "id": "YSrLxmeX75jj"
      },
      "source": [
        "With these building blocks we can easily construct the circuit for Shor's algorithm:"
      ]
    },
    {
      "cell_type": "code",
      "execution_count": null,
      "metadata": {
        "scrolled": false,
        "id": "5_3waM0H75jk"
      },
      "outputs": [],
      "source": [
        "# Create QuantumCircuit with N_COUNT counting qubits\n",
        "# plus 4 qubits for U to act on\n",
        "qc = QuantumCircuit(N_COUNT + 4, N_COUNT)\n",
        "\n",
        "# Initialize counting qubits\n",
        "# in state |+>\n",
        "for q in range(N_COUNT):\n",
        "    qc.h(q)\n",
        "\n",
        "# And auxiliary register in state |1>\n",
        "qc.x(N_COUNT)\n",
        "\n",
        "# Do controlled-U operations\n",
        "for q in range(N_COUNT):\n",
        "    qc.append(c_amod15(a, 2**q),\n",
        "             [q] + [i+N_COUNT for i in range(4)])\n",
        "\n",
        "# Do inverse-QFT\n",
        "qc.append(qft_dagger(N_COUNT), range(N_COUNT))\n",
        "\n",
        "# Measure circuit\n",
        "qc.measure(range(N_COUNT), range(N_COUNT))\n",
        "qc.draw(fold=-1, output = 'mpl')  # -1 means 'do not fold'"
      ]
    },
    {
      "cell_type": "markdown",
      "metadata": {
        "id": "tPJYAIMx75jk"
      },
      "source": [
        "Let's see what results we measure:"
      ]
    },
    {
      "cell_type": "code",
      "execution_count": null,
      "metadata": {
        "id": "JTkqK45975jk",
        "outputId": "554db749-e0c7-42fc-8610-d7fe9e2bda65",
        "colab": {
          "base_uri": "https://localhost:8080/",
          "height": 487
        }
      },
      "outputs": [
        {
          "output_type": "execute_result",
          "data": {
            "text/plain": [
              "<Figure size 640x480 with 1 Axes>"
            ],
            "image/png": "[encoded data removed]"
          },
          "metadata": {},
          "execution_count": 83
        }
      ],
      "source": [
        "aer_sim = AerSimulator()\n",
        "t_qc = transpile(qc, aer_sim)\n",
        "counts = aer_sim.run(t_qc).result().get_counts()\n",
        "plot_histogram(counts)"
      ]
    },
    {
      "cell_type": "markdown",
      "metadata": {
        "id": "cZbwayxQ75jk"
      },
      "source": [
        "Since we have 8 qubits, these results correspond to measured phases of:"
      ]
    },
    {
      "cell_type": "code",
      "execution_count": null,
      "metadata": {
        "id": "CiVt6Xxw75jk"
      },
      "outputs": [],
      "source": [
        "import pandas as pd\n",
        "from fractions import Fraction\n",
        "\n",
        "rows, measured_phases = [], []\n",
        "for output in counts:\n",
        "    decimal = int(output, 2)  # Convert (base 2) string to decimal\n",
        "    phase = decimal/(2**N_COUNT)  # Find corresponding eigenvalue\n",
        "    measured_phases.append(phase)\n",
        "    # Add these values to the rows in our table:\n",
        "    rows.append([f\"{output}(bin) = {decimal:>3}(dec)\",\n",
        "                 f\"{decimal}/{2**N_COUNT} = {phase:.2f}\"])\n",
        "# Print the rows in a table\n",
        "headers=[\"Register Output\", \"Phase\"]\n",
        "df = pd.DataFrame(rows, columns=headers)\n",
        "print(df)"
      ]
    },
    {
      "cell_type": "markdown",
      "metadata": {
        "id": "xwbKMjqU75jl"
      },
      "source": [
        "We can now use the continued fractions algorithm to attempt to find $s$ and $r$. Python has this functionality built in: We can use the `fractions` module to turn a float into a `Fraction` object, for example:"
      ]
    },
    {
      "cell_type": "code",
      "execution_count": null,
      "metadata": {
        "id": "uC-mYCXS75jl",
        "outputId": "a4914380-5544-4949-c336-e4fd7df914ba",
        "colab": {
          "base_uri": "https://localhost:8080/"
        }
      },
      "outputs": [
        {
          "output_type": "execute_result",
          "data": {
            "text/plain": [
              "Fraction(5998794703657501, 9007199254740992)"
            ]
          },
          "metadata": {},
          "execution_count": 88
        }
      ],
      "source": [
        "Fraction(0.666)"
      ]
    },
    {
      "cell_type": "markdown",
      "metadata": {
        "id": "HY0NPGhL75jl"
      },
      "source": [
        "Because this gives fractions that return the result exactly (in this case, `0.6660000...`), this can give gnarly results like the one above. We can use the `.limit_denominator()` method to get the fraction that most closely resembles our float, with denominator below a certain value:"
      ]
    },
    {
      "cell_type": "code",
      "execution_count": null,
      "metadata": {
        "id": "dXG5wg5R75jl"
      },
      "outputs": [],
      "source": [
        "# Get fraction that most closely resembles 0.666\n",
        "# with denominator < 15\n",
        "Fraction(0.666).limit_denominator(15)"
      ]
    },
    {
      "cell_type": "markdown",
      "metadata": {
        "id": "kJW-1y-f75jl"
      },
      "source": [
        "Much nicer! The order (r) must be less than N, so we will set the maximum denominator to be `15`:"
      ]
    },
    {
      "cell_type": "code",
      "execution_count": null,
      "metadata": {
        "id": "NGnbqjce75jm"
      },
      "outputs": [],
      "source": [
        "rows = []\n",
        "for phase in measured_phases:\n",
        "    frac = Fraction(phase).limit_denominator(15)\n",
        "    rows.append([phase,\n",
        "                 f\"{frac.numerator}/{frac.denominator}\",\n",
        "                 frac.denominator])\n",
        "# Print as a table\n",
        "headers=[\"Phase\", \"Fraction\", \"Guess for r\"]\n",
        "df = pd.DataFrame(rows, columns=headers)\n",
        "print(df)"
      ]
    },
    {
      "cell_type": "markdown",
      "metadata": {
        "id": "31uGKUIa75jm"
      },
      "source": [
        "We can see that two of the measured eigenvalues provided us with the correct result: $r=4$, and we can see that Shor’s algorithm has a chance of failing. These bad results are because $s = 0$, or because $s$ and $r$ are not coprime and instead of $r$ we are given a factor of $r$. The easiest solution to this is to simply repeat the experiment until we get a satisfying result for $r$.\n",
        "\n",
        "### Quick Exercise\n",
        "\n",
        "- Change the circuit above for values of $a = 2, 8, 11$ and $13$. What results do you get and why?"
      ]
    },
    {
      "cell_type": "markdown",
      "metadata": {
        "id": "StgqtPIL75jm"
      },
      "source": [
        "## 3. 4. Modular Exponentiation\n",
        "\n",
        "You may have noticed that the method of creating the $U^{2^j}$ gates by repeating $U$ grows exponentially with $j$ and will not result in a polynomial time algorithm. We want a way to create the operator:\n",
        "\n",
        "$$ U^{2^j}|y\\rangle = |a^{2^j}y \\bmod N \\rangle $$\n",
        "\n",
        "that grows polynomially with $j$. Fortunately, calculating:\n",
        "\n",
        "$$ a^{2^j} \\bmod N$$\n",
        "\n",
        "efficiently is possible. Classical computers can use an algorithm known as _repeated squaring_ to calculate an exponential. In our case, since we are only dealing with exponentials of the form $2^j$, the repeated squaring algorithm becomes very simple:"
      ]
    },
    {
      "cell_type": "code",
      "execution_count": null,
      "metadata": {
        "tags": [
          "thebelab-init"
        ],
        "id": "ByrKfF7N75jm"
      },
      "outputs": [],
      "source": [
        "from numpy.random import randint\n",
        "\n",
        "def a2jmodN(a, j, N):\n",
        "    \"\"\"Compute a^{2^j} (mod N) by repeated squaring\"\"\"\n",
        "    for _ in range(j):\n",
        "        a = np.mod(a**2, N)\n",
        "    return a"
      ]
    },
    {
      "cell_type": "code",
      "execution_count": null,
      "metadata": {
        "id": "moUbVIis75jm"
      },
      "outputs": [],
      "source": [
        "a2jmodN(7, 2049, 53)"
      ]
    },
    {
      "cell_type": "markdown",
      "metadata": {
        "id": "tr5XlQh975jn"
      },
      "source": [
        "If an efficient algorithm is possible in Python, then we can use the same algorithm on a quantum computer. Unfortunately, despite scaling polynomially with $j$, modular exponentiation circuits are not straightforward and are the bottleneck in Shor’s algorithm.\n",
        "\n",
        "## 3. 5. Factoring from Period Finding\n",
        "\n",
        "Not all factoring problems are difficult; we can spot an even number instantly and know that one of its factors is 2. In fact, there are specific criteria for choosing numbers that are difficult to factor, but the basic idea is to choose the product of two large prime numbers.\n",
        "\n",
        "A general factoring algorithm will first check to see if there is a shortcut to factoring the integer (is the number even? Is the number of the form $N = a^b$?), before using Shor’s period finding for the worst-case scenario. Since we aim to focus on the quantum part of the algorithm, we will jump straight to the case in which N is the product of two primes.\n",
        "\n",
        "### Example: Factoring 15\n",
        "\n",
        "To see an example of factoring on a small number of qubits, we will factor 15, which we all know is the product of the not-so-large prime numbers 3 and 5."
      ]
    },
    {
      "cell_type": "code",
      "execution_count": null,
      "metadata": {
        "tags": [
          "thebelab-init"
        ],
        "id": "VsX1_azq75jn"
      },
      "outputs": [],
      "source": [
        "N = 15"
      ]
    },
    {
      "cell_type": "markdown",
      "metadata": {
        "id": "BkEMyTTt75jn"
      },
      "source": [
        "The first step is to choose a random number, $a$, between $1$ and $N-1$:"
      ]
    },
    {
      "cell_type": "code",
      "execution_count": null,
      "metadata": {
        "tags": [
          "thebelab-init"
        ],
        "id": "iuh7Fq1T75jn"
      },
      "outputs": [],
      "source": [
        "np.random.seed(1) # This is to make sure we get reproduceable results\n",
        "a = randint(2, 15)\n",
        "print(a)"
      ]
    },
    {
      "cell_type": "markdown",
      "metadata": {
        "id": "S8G6mpzD75jn"
      },
      "source": [
        "Next we quickly check it isn't already a non-trivial factor of $N$:"
      ]
    },
    {
      "cell_type": "code",
      "execution_count": null,
      "metadata": {
        "scrolled": true,
        "id": "PgJmNyFF75jn"
      },
      "outputs": [],
      "source": [
        "from math import gcd # greatest common divisor\n",
        "gcd(a, N)"
      ]
    },
    {
      "cell_type": "markdown",
      "metadata": {
        "id": "Pn7W8lmu75jo"
      },
      "source": [
        "Great. Next, we do Shor's order finding algorithm for `a = 7` and `N = 15`. Remember that the phase we measure will be $s/r$ where:\n",
        "\n",
        "$$ a^r \\bmod N = 1 $$\n",
        "\n",
        "and $s$ is a random integer between 0 and $r-1$."
      ]
    },
    {
      "cell_type": "code",
      "execution_count": null,
      "metadata": {
        "tags": [
          "thebelab-init"
        ],
        "id": "6iV_dLBF75jo"
      },
      "outputs": [],
      "source": [
        "def qpe_amod15(a):\n",
        "    \"\"\"Performs quantum phase estimation on the operation a*r mod 15.\n",
        "    Args:\n",
        "        a (int): This is 'a' in a*r mod 15\n",
        "    Returns:\n",
        "        float: Estimate of the phase\n",
        "    \"\"\"\n",
        "    N_COUNT = 8\n",
        "    qc = QuantumCircuit(4+N_COUNT, N_COUNT)\n",
        "    for q in range(N_COUNT):\n",
        "        qc.h(q)     # Initialize counting qubits in state |+>\n",
        "    qc.x(N_COUNT) # And auxiliary register in state |1>\n",
        "    for q in range(N_COUNT): # Do controlled-U operations\n",
        "        qc.append(c_amod15(a, 2**q),\n",
        "                 [q] + [i+N_COUNT for i in range(4)])\n",
        "    qc.append(qft_dagger(N_COUNT), range(N_COUNT)) # Do inverse-QFT\n",
        "    qc.measure(range(N_COUNT), range(N_COUNT))\n",
        "    # Simulate Results\n",
        "    aer_sim = Aer.get_backend('aer_simulator')\n",
        "    # `memory=True` tells the backend to save each measurement in a list\n",
        "    job = aer_sim.run(transpile(qc, aer_sim), shots=1, memory=True)\n",
        "    readings = job.result().get_memory()\n",
        "    print(\"Register Reading: \" + readings[0])\n",
        "    phase = int(readings[0],2)/(2**N_COUNT)\n",
        "    print(f\"Corresponding Phase: {phase}\")\n",
        "    return phase"
      ]
    },
    {
      "cell_type": "markdown",
      "metadata": {
        "id": "zm5iFMZ875jo"
      },
      "source": [
        "From this phase, we can easily find a guess for $r$:"
      ]
    },
    {
      "cell_type": "code",
      "source": [
        "from qiskit_aer import Aer        # or from qiskit import Aer\n",
        "from fractions import Fraction\n",
        "\n",
        "phase = qpe_amod15(a)            # Assume a = 7 or similar\n",
        "Fraction(phase).limit_denominator(15)\n"
      ],
      "metadata": {
        "id": "jx1Cuar_IgFh"
      },
      "execution_count": null,
      "outputs": []
    },
    {
      "cell_type": "code",
      "execution_count": null,
      "metadata": {
        "id": "yk82x4s875jt"
      },
      "outputs": [],
      "source": [
        "frac = Fraction(phase).limit_denominator(15)\n",
        "s, r = frac.numerator, frac.denominator\n",
        "print(r)"
      ]
    },
    {
      "cell_type": "markdown",
      "metadata": {
        "id": "kVSpWoHn75jt"
      },
      "source": [
        "Now we have $r$, we might be able to use this to find a factor of $N$. Since:\n",
        "\n",
        "$$a^r \\bmod N = 1 $$\n",
        "\n",
        "then:\n",
        "\n",
        "$$(a^r - 1) \\bmod N = 0 $$\n",
        "\n",
        "which means $N$ must divide $a^r-1$. And if $r$ is also even, then we can write:\n",
        "\n",
        "$$a^r -1 = (a^{r/2}-1)(a^{r/2}+1)$$\n",
        "\n",
        "(if $r$ is not even, we cannot go further and must try again with a different value for $a$). There is then a high probability that the greatest common divisor of $N$ and either $a^{r/2}-1$, or $a^{r/2}+1$ is a proper factor of $N$ [2]:"
      ]
    },
    {
      "cell_type": "code",
      "execution_count": null,
      "metadata": {
        "id": "j5T5OXWs75jt"
      },
      "outputs": [],
      "source": [
        "guesses = [gcd(a**(r//2)-1, N), gcd(a**(r//2)+1, N)]\n",
        "print(guesses)"
      ]
    },
    {
      "cell_type": "markdown",
      "metadata": {
        "id": "kU8unGVw75jt"
      },
      "source": [
        "The cell below repeats the algorithm until at least one factor of 15 is found. You should try re-running the cell a few times to see how it behaves."
      ]
    },
    {
      "cell_type": "code",
      "execution_count": null,
      "metadata": {
        "scrolled": false,
        "id": "9h94taQo75ju"
      },
      "outputs": [],
      "source": [
        "a = 7\n",
        "FACTOR_FOUND = False\n",
        "ATTEMPT = 0\n",
        "while not FACTOR_FOUND:\n",
        "    ATTEMPT += 1\n",
        "    print(f\"\\nATTEMPT {ATTEMPT}:\")\n",
        "    phase = qpe_amod15(a) # Phase = s/r\n",
        "    frac = Fraction(phase).limit_denominator(N)\n",
        "    r = frac.denominator\n",
        "    print(f\"Result: r = {r}\")\n",
        "    if phase != 0:\n",
        "        # Guesses for factors are gcd(x^{r/2} ±1 , 15)\n",
        "        guesses = [gcd(a**(r//2)-1, N), gcd(a**(r//2)+1, N)]\n",
        "        print(f\"Guessed Factors: {guesses[0]} and {guesses[1]}\")\n",
        "        for guess in guesses:\n",
        "            if guess not in [1,N] and (N % guess) == 0:\n",
        "                # Guess is a factor!\n",
        "                print(f\"*** Non-trivial factor found: {guess} ***\")\n",
        "                FACTOR_FOUND = True"
      ]
    },
    {
      "cell_type": "code",
      "execution_count": null,
      "metadata": {
        "tags": [
          "sanity-check"
        ],
        "id": "Ky2OMuR875ju"
      },
      "outputs": [],
      "source": [
        "# The cell below repeats the algorithm until at least one factor of 15\n",
        "# is found\n",
        "assert (3 in guesses) or (5 in guesses)"
      ]
    },
    {
      "cell_type": "markdown",
      "source": [
        "# Tasks"
      ],
      "metadata": {
        "id": "TPVVWgp1JRGj"
      }
    },
    {
      "cell_type": "markdown",
      "source": [
        "## Task 1: Implement the Inverse QFT\n",
        "\n",
        "Implement the inverse QFT on an n-qubit register using your existing qft_rotations() logic in reverse.\n",
        "\n",
        "Steps:\n",
        "1. Define a function inverse_qft(circuit, n) that:\n",
        "2. Reverses the qubit order using SWAP gates.\n",
        "3. Applies the inverse controlled phase rotations and Hadamard gates in the correct order.\n",
        "4. Test your inverse_qft function by applying QFT followed by inverse QFT to a quantum state and confirming it returns to the original state (e.g., via measurement or statevector fidelity).\n",
        "\n"
      ],
      "metadata": {
        "id": "pl8fY-qGJTGW"
      }
    },
    {
      "cell_type": "markdown",
      "source": [
        "## Task 2: Apply QFT to a Known Basis State\n",
        "\n",
        "Demonstrate the effect of QFT on the basis state |5⟩ (binary: 101) using a 3-qubit system.\n",
        "\n",
        "Steps:\n",
        "1. Initialize a 3-qubit circuit in state |101⟩ using x() gates.\n",
        "2. Apply QFT to the circuit.\n",
        "3. Use Statevector or measurement to observe the transformation into the frequency domain.\n",
        "4. Optionally, compare this output to the analytical QFT of |5⟩."
      ],
      "metadata": {
        "id": "oPo7oyvxJc6q"
      }
    },
    {
      "cell_type": "markdown",
      "source": [
        "## Task 3: Estimate Phase Using QPE and QFT\n",
        "\n",
        "Use QFT to estimate the phase s/r from a controlled-unitary operation (e.g., modular exponentiation $a^{x}$ mod 15).\n",
        "\n",
        "Steps:\n",
        "1. Use or modify the provided function qpe_amod15(a) (or build one).\n",
        "2. Run QPE with a = 7 or a = 11 and extract the estimated phase.\n",
        "3. Use Python’s Fraction(phase).limit_denominator(15) to approximate the rational value.\n",
        "4. Interpret s and r from the result and explain what they represent."
      ],
      "metadata": {
        "id": "-TCOabD5Jl94"
      }
    }
  ]
}